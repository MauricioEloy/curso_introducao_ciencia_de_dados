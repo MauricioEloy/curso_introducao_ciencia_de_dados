{
 "cells": [
  {
   "cell_type": "markdown",
   "metadata": {
    "ExecuteTime": {
     "end_time": "2021-05-04T19:02:34.568789Z",
     "start_time": "2021-05-04T19:02:34.557421Z"
    }
   },
   "source": [
    "<p> <img src=\"../../imagens/LOGO_2.png\"  align=\"midle\"></p>\n",
    "\n",
    "**Data Science**<br>\n",
    "\n",
    "*profmauricioeloy@gmail.com | mauricioeloy@usp.br<br>*"
   ]
  },
  {
   "cell_type": "markdown",
   "metadata": {},
   "source": [
    "**Sumário:**\n",
    "\n",
    "* [1. Conteúdo](#1)\n",
    "* [2. Programação Funcional](#2)\n",
    "    * [2.1 O funcional map](#2.1)\n",
    "    * [2.2 O funcional filter](#2.2)\n",
    "    * [2.3 O funcional reduce](#2.3)"
   ]
  },
  {
   "cell_type": "markdown",
   "metadata": {},
   "source": [
    "<a id=\"1\"></a>\n",
    "<h1 style=\"background-color:#084d6e;font-family:newtimeroman;font-size:300%;color:white;text-align:center;border-radius: 15px 50px\">Conteúdo</h1>\n",
    "\n",
    "* Programação Funcional;\n",
    "* O funcional map;\n",
    "* O funcional filter;\n",
    "* O funcional reduce."
   ]
  },
  {
   "cell_type": "markdown",
   "metadata": {
    "ExecuteTime": {
     "end_time": "2021-05-04T22:13:45.821459Z",
     "start_time": "2021-05-04T22:13:45.812133Z"
    }
   },
   "source": [
    "<a id=\"2\"></a>\n",
    "<h1 style=\"background-color:#084d6e;font-family:newtimeroman;font-size:300%;color:white;text-align:center;border-radius: 15px 50px\">Programação Funcional</h1>\n",
    "\n",
    "As **funcionais** em Python são um conjunto de funções implementadas e utilizadas para se aplicar outra função em uma sequência de elementos.\n",
    "\n",
    "Com o uso de uma programação \"pythonica\", utilizando-se de funcionais, pode-se evitar o uso de laços (for e while), deixando os programas mais eficientes.\n",
    "\n",
    "Sintaxe:\n",
    "\n",
    "```python\n",
    "funcional(funcao, iterador)\n",
    "```"
   ]
  },
  {
   "cell_type": "markdown",
   "metadata": {},
   "source": [
    "<a id=\"2.1\"></a>\n",
    "<h2 style=\"background-color:#084d6e;font-family:newtimeroman;font-size:200%;color:white;text-align:center;border-radius: 15px 50px\">O funcional map</h2>\n",
    "\n",
    "O funcional **map** (mapeamento) percorre todos os elementos do iterador e os aplica na função desejada.\n"
   ]
  },
  {
   "cell_type": "code",
   "execution_count": 1,
   "metadata": {},
   "outputs": [
    {
     "data": {
      "text/plain": [
       "<map at 0x7f257cf41ca0>"
      ]
     },
     "execution_count": 1,
     "metadata": {},
     "output_type": "execute_result"
    }
   ],
   "source": [
    "vel_iot = [60.0, 55.7, 43.0, 79.3, 41.4, 14.7]\n",
    "\n",
    "def convertVel(velocidade):\n",
    "    return round(velocidade/3.6,2)\n",
    "    \n",
    "vel_ms_map = map(convertVel,vel_iot)\n",
    "vel_ms_map"
   ]
  },
  {
   "cell_type": "code",
   "execution_count": 2,
   "metadata": {},
   "outputs": [
    {
     "data": {
      "text/plain": [
       "map"
      ]
     },
     "execution_count": 2,
     "metadata": {},
     "output_type": "execute_result"
    }
   ],
   "source": [
    "type(vel_ms_map)"
   ]
  },
  {
   "cell_type": "code",
   "execution_count": 3,
   "metadata": {},
   "outputs": [
    {
     "data": {
      "text/plain": [
       "[16.67, 15.47, 11.94, 22.03, 11.5, 4.08]"
      ]
     },
     "execution_count": 3,
     "metadata": {},
     "output_type": "execute_result"
    }
   ],
   "source": [
    "vel_ms = list(map(convertVel,vel_iot))\n",
    "vel_ms"
   ]
  },
  {
   "cell_type": "code",
   "execution_count": 4,
   "metadata": {},
   "outputs": [
    {
     "data": {
      "text/plain": [
       "[16.67, 15.47, 11.94, 22.03, 11.5, 4.08]"
      ]
     },
     "execution_count": 4,
     "metadata": {},
     "output_type": "execute_result"
    }
   ],
   "source": [
    "vel_ms = list(map(lambda x: round(x/3.6,2), vel_iot))\n",
    "vel_ms"
   ]
  },
  {
   "cell_type": "markdown",
   "metadata": {},
   "source": [
    "<a id=\"2.2\"></a>\n",
    "<h2 style=\"background-color:#084d6e;font-family:newtimeroman;font-size:200%;color:white;text-align:center;border-radius: 15px 50px\">O funcional filter</h2>\n",
    "\n",
    "O funcional **filter** (filtragem) percorre todos os elementos do iterador e retorna elementos em uma nova sequência caso o retorno da função seja verdadeiro."
   ]
  },
  {
   "cell_type": "code",
   "execution_count": 5,
   "metadata": {},
   "outputs": [
    {
     "data": {
      "text/plain": [
       "<filter at 0x7f257d179fa0>"
      ]
     },
     "execution_count": 5,
     "metadata": {},
     "output_type": "execute_result"
    }
   ],
   "source": [
    "vel_iot_M15 = filter(lambda x: round(x/3.6,2)>=(15/3.6),vel_iot)\n",
    "vel_iot_M15"
   ]
  },
  {
   "cell_type": "code",
   "execution_count": 6,
   "metadata": {},
   "outputs": [
    {
     "data": {
      "text/plain": [
       "filter"
      ]
     },
     "execution_count": 6,
     "metadata": {},
     "output_type": "execute_result"
    }
   ],
   "source": [
    "type(vel_iot_M15)"
   ]
  },
  {
   "cell_type": "code",
   "execution_count": 7,
   "metadata": {},
   "outputs": [
    {
     "data": {
      "text/plain": [
       "[60.0, 55.7, 43.0, 79.3, 41.4]"
      ]
     },
     "execution_count": 7,
     "metadata": {},
     "output_type": "execute_result"
    }
   ],
   "source": [
    "vel_iot_M15 = list(filter(lambda x: round(x/3.6,2)>=(15/3.6),vel_iot))\n",
    "vel_iot_M15"
   ]
  },
  {
   "cell_type": "markdown",
   "metadata": {
    "ExecuteTime": {
     "end_time": "2021-05-04T22:13:45.821459Z",
     "start_time": "2021-05-04T22:13:45.812133Z"
    }
   },
   "source": [
    "<a id=\"2.3\"></a>\n",
    "<h2 style=\"background-color:#084d6e;font-family:newtimeroman;font-size:200%;color:white;text-align:center;border-radius: 15px 50px\">O funcional reduce</h2>\n",
    "\n",
    "O funcional **reduce** (redução) percorre todos os elementos do iterador os acumulando através de uma função e retorna um único elemento. \n",
    "\n",
    "O objetivo final do reduce é reduzir a sequência inicial em um único elemento."
   ]
  },
  {
   "cell_type": "code",
   "execution_count": 8,
   "metadata": {},
   "outputs": [
    {
     "name": "stdout",
     "output_type": "stream",
     "text": [
      "[16.67, 15.47, 11.94, 22.03, 11.5, 4.08]\n"
     ]
    },
    {
     "data": {
      "text/plain": [
       "81.69"
      ]
     },
     "execution_count": 8,
     "metadata": {},
     "output_type": "execute_result"
    }
   ],
   "source": [
    "from functools import reduce\n",
    "print(vel_ms)\n",
    "r_sum = reduce(lambda x, y: x+y, vel_ms)\n",
    "r_sum"
   ]
  },
  {
   "cell_type": "code",
   "execution_count": 9,
   "metadata": {},
   "outputs": [
    {
     "data": {
      "text/plain": [
       "81.69"
      ]
     },
     "execution_count": 9,
     "metadata": {},
     "output_type": "execute_result"
    }
   ],
   "source": [
    "sum(vel_ms)"
   ]
  },
  {
   "cell_type": "code",
   "execution_count": 10,
   "metadata": {},
   "outputs": [
    {
     "data": {
      "text/plain": [
       "float"
      ]
     },
     "execution_count": 10,
     "metadata": {},
     "output_type": "execute_result"
    }
   ],
   "source": [
    "type(r_sum)"
   ]
  },
  {
   "cell_type": "code",
   "execution_count": null,
   "metadata": {},
   "outputs": [],
   "source": []
  }
 ],
 "metadata": {
  "kernelspec": {
   "display_name": "Python 3",
   "language": "python",
   "name": "python3"
  },
  "language_info": {
   "codemirror_mode": {
    "name": "ipython",
    "version": 3
   },
   "file_extension": ".py",
   "mimetype": "text/x-python",
   "name": "python",
   "nbconvert_exporter": "python",
   "pygments_lexer": "ipython3",
   "version": "3.8.10"
  },
  "nbTranslate": {
   "displayLangs": [
    "*"
   ],
   "hotkey": "alt-t",
   "langInMainMenu": true,
   "sourceLang": "en",
   "targetLang": "br",
   "useGoogleTranslate": true
  },
  "toc": {
   "base_numbering": 1,
   "nav_menu": {},
   "number_sections": true,
   "sideBar": true,
   "skip_h1_title": false,
   "title_cell": "Table of Contents",
   "title_sidebar": "Contents",
   "toc_cell": false,
   "toc_position": {
    "height": "calc(100% - 180px)",
    "left": "10px",
    "top": "150px",
    "width": "432.833px"
   },
   "toc_section_display": true,
   "toc_window_display": false
  }
 },
 "nbformat": 4,
 "nbformat_minor": 4
}
