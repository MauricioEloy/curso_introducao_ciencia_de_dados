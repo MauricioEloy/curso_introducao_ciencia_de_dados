{
 "cells": [
  {
   "cell_type": "markdown",
   "metadata": {
    "ExecuteTime": {
     "end_time": "2021-05-04T19:02:34.568789Z",
     "start_time": "2021-05-04T19:02:34.557421Z"
    }
   },
   "source": [
    "<p> <img src=\"../../imagens/LOGO_2.png\"  align=\"midle\"></p>\n",
    "\n",
    "**Data Science**<br>\n",
    "\n",
    "*profmauricioeloy@gmail.com | mauricioeloy@usp.br<br>*"
   ]
  },
  {
   "cell_type": "markdown",
   "metadata": {},
   "source": [
    "**Sumário:**\n",
    "\n",
    "* [1. Conteúdo](#1)\n",
    "* [2. Estruturada Vs. Orientada a Objetos](#2)\n",
    "    * [2.1 Programação Estruturada](#2.1)\n",
    "    * [2.2 Programação Orientada a Obejtos (POO)](#2.2)\n",
    "* [3. POO](#3)\n",
    "    * [3.1 Classes](#3.1)\n",
    "    * [3.2 Objetos](#3.2)\n",
    "        * [3.2.1 Atributos](#3.2.1)\n",
    "        * [3.2.2 Métodos](#3.2.2)\n",
    "        * [3.2.3 Genérico](#3.2.3)\n",
    "    * [3.3 Herança](#3.3)"
   ]
  },
  {
   "cell_type": "markdown",
   "metadata": {},
   "source": [
    "<a id=\"1\"></a>\n",
    "<h1 style=\"background-color:#084d6e;font-family:newtimeroman;font-size:300%;color:white;text-align:center;border-radius: 15px 50px\">Conteúdo</h1>\n",
    "\n",
    "* Programação Estruturada Vs. Programação Orientada a Objetos;\n",
    "* Classes;\n",
    "* Objetos;\n",
    "* Métodos;\n",
    "* Herança."
   ]
  },
  {
   "cell_type": "markdown",
   "metadata": {
    "ExecuteTime": {
     "end_time": "2021-05-04T22:13:45.821459Z",
     "start_time": "2021-05-04T22:13:45.812133Z"
    }
   },
   "source": [
    "<a id=\"2\"></a>\n",
    "<h1 style=\"background-color:#084d6e;font-family:newtimeroman;font-size:300%;color:white;text-align:center;border-radius: 15px 50px\">Estruturada Vs. Orientada a Objetos</h1>\n"
   ]
  },
  {
   "cell_type": "markdown",
   "metadata": {},
   "source": [
    "<a id=\"2.1\"></a>\n",
    "<h2 style=\"background-color:#084d6e;font-family:newtimeroman;font-size:200%;color:white;text-align:center;border-radius: 15px 50px\">Programação Estruturada</h2>\n",
    "\n",
    "A programação estruturada tem como alicerce três estruturas:\n",
    "\n",
    "* Sequência;\n",
    "* Decisão;\n",
    "* Iteração.\n",
    "\n",
    "E preconiza que todos os programas podem ser reduzidos a uma combinação dessas três estruturas.\n",
    "\n"
   ]
  },
  {
   "cell_type": "markdown",
   "metadata": {},
   "source": [
    "<a id=\"2.2\"></a>\n",
    "<h2 style=\"background-color:#084d6e;font-family:newtimeroman;font-size:200%;color:white;text-align:center;border-radius: 15px 50px\">Programação Orientada a Objetos (POO)</h2>\n",
    "\n",
    "Este tipo de programação, tem por objetivo abstrair elementos do mundo real em forma de objetos, sendo que para tanto, faz-se necesserário os seguintes elementos/conceitos:\n",
    "\n",
    "* Classes;\n",
    "* Objeto;\n",
    "    * Atributos;\n",
    "    * Métodos.\n",
    "* Herança.\n"
   ]
  },
  {
   "cell_type": "markdown",
   "metadata": {
    "ExecuteTime": {
     "end_time": "2021-05-04T22:13:45.821459Z",
     "start_time": "2021-05-04T22:13:45.812133Z"
    }
   },
   "source": [
    "<a id=\"3\"></a>\n",
    "<h1 style=\"background-color:#084d6e;font-family:newtimeroman;font-size:300%;color:white;text-align:center;border-radius: 15px 50px\">POO</h1>\n"
   ]
  },
  {
   "cell_type": "markdown",
   "metadata": {},
   "source": [
    "<a id=\"3.1\"></a>\n",
    "<h2 style=\"background-color:#084d6e;font-family:newtimeroman;font-size:200%;color:white;text-align:center;border-radius: 15px 50px\">Classes</h2>\n",
    "\n",
    "\n",
    "São abstrações que o computador faz para representar elementos do mundo real, em outras palavras, pode-se dizer que é uma espécie de \"forma\".\n",
    "\n",
    "Sintaxe:\n",
    "\n",
    "```python\n",
    "class Nome_classe(...):\n",
    "      atributo1 = valor1      # atributos da classe\n",
    "      atributo2 = valor2\n",
    "      :\n",
    "      :\n",
    "      def __init__(self,...):  # construtor da classe\n",
    "         … código padrão …\n",
    "            \n",
    "      def metodo1(self,...):  # métodos da classe\n",
    "         self.atribute1 = valor\n",
    "```    \n"
   ]
  },
  {
   "cell_type": "code",
   "execution_count": 2,
   "metadata": {},
   "outputs": [],
   "source": [
    "#Criando uma classe chamada Instrumento\n",
    "class Instrumento():\n",
    "\n",
    "    def __init__(self):\n",
    "        print(\"...criando o objeto...\")\n",
    "        self.categoria = 'Corda'\n",
    "        self.nome = 'Guitarra'\n",
    "\n",
    "    def imprimir(self):\n",
    "        print(\"Foi criado o instrumento {} do tipo {}\".format(self.nome, self.categoria))"
   ]
  },
  {
   "cell_type": "markdown",
   "metadata": {},
   "source": [
    "<a id=\"3.2\"></a>\n",
    "<h2 style=\"background-color:#084d6e;font-family:newtimeroman;font-size:200%;color:white;text-align:center;border-radius: 15px 50px\">Objetos</h2>\n",
    "\n",
    "Um objeto, pode ser entendido como uma instância de uma classe.\n",
    "\n",
    "Um objeto tem dois conceitos fundamentais:\n",
    "\n",
    "* Atributos;\n",
    "* Métodos."
   ]
  },
  {
   "cell_type": "code",
   "execution_count": 3,
   "metadata": {},
   "outputs": [
    {
     "name": "stdout",
     "output_type": "stream",
     "text": [
      "...criando o objeto...\n"
     ]
    }
   ],
   "source": [
    "#Criando a instância da classe Instrumento\n",
    "Instrumento_1 = Instrumento()"
   ]
  },
  {
   "cell_type": "code",
   "execution_count": 4,
   "metadata": {},
   "outputs": [
    {
     "data": {
      "text/plain": [
       "__main__.Instrumento"
      ]
     },
     "execution_count": 4,
     "metadata": {},
     "output_type": "execute_result"
    }
   ],
   "source": [
    "#Tipo deste objeto criado\n",
    "type(Instrumento_1)"
   ]
  },
  {
   "cell_type": "markdown",
   "metadata": {},
   "source": [
    "<a id=\"3.2.1\"></a>\n",
    "<h3 style=\"background-color:#084d6e;font-family:newtimeroman;font-size:150%;color:white;text-align:center;border-radius: 15px 50px\">Atributos</h3>\n",
    "\n",
    "São Características de um objeto, representam o seu estado."
   ]
  },
  {
   "cell_type": "code",
   "execution_count": 5,
   "metadata": {},
   "outputs": [
    {
     "name": "stdout",
     "output_type": "stream",
     "text": [
      "Guitarra\n",
      "Corda\n"
     ]
    }
   ],
   "source": [
    "#Atributos\n",
    "print(Instrumento_1.nome)\n",
    "print(Instrumento_1.categoria)"
   ]
  },
  {
   "cell_type": "markdown",
   "metadata": {},
   "source": [
    "<a id=\"3.2.2\"></a>\n",
    "<h3 style=\"background-color:#084d6e;font-family:newtimeroman;font-size:150%;color:white;text-align:center;border-radius: 15px 50px\">Métodos</h3>\n",
    "\n",
    "São ações do objeto, representadas por funções dentro das classes"
   ]
  },
  {
   "cell_type": "code",
   "execution_count": 6,
   "metadata": {},
   "outputs": [
    {
     "name": "stdout",
     "output_type": "stream",
     "text": [
      "Foi criado o instrumento Guitarra do tipo Corda\n"
     ]
    }
   ],
   "source": [
    "#Método\n",
    "Instrumento_1.imprimir()"
   ]
  },
  {
   "cell_type": "markdown",
   "metadata": {},
   "source": [
    "<a id=\"3.2.3\"></a>\n",
    "<h3 style=\"background-color:#084d6e;font-family:newtimeroman;font-size:150%;color:white;text-align:center;border-radius: 15px 50px\">Genérico</h3>"
   ]
  },
  {
   "cell_type": "code",
   "execution_count": 11,
   "metadata": {},
   "outputs": [
    {
     "ename": "TypeError",
     "evalue": "__init__() got an unexpected keyword argument 'nome'",
     "output_type": "error",
     "traceback": [
      "\u001b[0;31m---------------------------------------------------------------------------\u001b[0m",
      "\u001b[0;31mTypeError\u001b[0m                                 Traceback (most recent call last)",
      "\u001b[0;32m<ipython-input-11-a7bd1ab8e728>\u001b[0m in \u001b[0;36m<module>\u001b[0;34m\u001b[0m\n\u001b[1;32m      1\u001b[0m \u001b[0;31m#Criando a instância da classe Instrumento\u001b[0m\u001b[0;34m\u001b[0m\u001b[0;34m\u001b[0m\u001b[0;34m\u001b[0m\u001b[0m\n\u001b[0;32m----> 2\u001b[0;31m \u001b[0mInstrumento_2\u001b[0m \u001b[0;34m=\u001b[0m \u001b[0mInstrumento\u001b[0m\u001b[0;34m(\u001b[0m\u001b[0mnome\u001b[0m\u001b[0;34m=\u001b[0m\u001b[0;34m\"Violino\"\u001b[0m\u001b[0;34m,\u001b[0m\u001b[0mcategoria\u001b[0m\u001b[0;34m=\u001b[0m\u001b[0;34m\"Corda\"\u001b[0m\u001b[0;34m)\u001b[0m\u001b[0;34m\u001b[0m\u001b[0;34m\u001b[0m\u001b[0m\n\u001b[0m",
      "\u001b[0;31mTypeError\u001b[0m: __init__() got an unexpected keyword argument 'nome'"
     ]
    }
   ],
   "source": [
    "#Criando a instância da classe Instrumento\n",
    "Instrumento_2 = Instrumento(nome=\"Violino\",categoria=\"Corda\")"
   ]
  },
  {
   "cell_type": "code",
   "execution_count": 12,
   "metadata": {},
   "outputs": [],
   "source": [
    "#Criando uma classe chamada Instrumento\n",
    "class Instrumento():\n",
    "    def __init__(self, categoria, nome):\n",
    "        print(\"...criando o objeto...\")\n",
    "        self.categoria = categoria\n",
    "        self.nome = nome\n",
    "        \n",
    "    def imprimir(self):\n",
    "        print(\"Foi criado o instrumento {} do tipo {}\".format(self.nome, self.categoria))\n",
    "        \n",
    "    def tocar(self):\n",
    "        print(\"SOOOOOMMM\")"
   ]
  },
  {
   "cell_type": "code",
   "execution_count": 13,
   "metadata": {},
   "outputs": [
    {
     "name": "stdout",
     "output_type": "stream",
     "text": [
      "...criando o objeto...\n"
     ]
    }
   ],
   "source": [
    "#Criando a instância da classe Instrumento\n",
    "Instrumento_2 = Instrumento(nome=\"Violino\",categoria=\"Corda\")"
   ]
  },
  {
   "cell_type": "code",
   "execution_count": 14,
   "metadata": {},
   "outputs": [
    {
     "name": "stdout",
     "output_type": "stream",
     "text": [
      "Violino\n",
      "Corda\n"
     ]
    }
   ],
   "source": [
    "#Atributos\n",
    "print(Instrumento_2.nome)\n",
    "print(Instrumento_2.categoria)"
   ]
  },
  {
   "cell_type": "code",
   "execution_count": 15,
   "metadata": {},
   "outputs": [
    {
     "name": "stdout",
     "output_type": "stream",
     "text": [
      "Foi criado o instrumento Violino do tipo Corda\n"
     ]
    }
   ],
   "source": [
    "#Métodos\n",
    "Instrumento_2.imprimir()"
   ]
  },
  {
   "cell_type": "code",
   "execution_count": 16,
   "metadata": {},
   "outputs": [
    {
     "name": "stdout",
     "output_type": "stream",
     "text": [
      "SOOOOOMMM\n"
     ]
    }
   ],
   "source": [
    "#Métodos\n",
    "Instrumento_2.tocar()"
   ]
  },
  {
   "cell_type": "markdown",
   "metadata": {},
   "source": [
    "<a id=\"3.3\"></a>\n",
    "<h2 style=\"background-color:#084d6e;font-family:newtimeroman;font-size:200%;color:white;text-align:center;border-radius: 15px 50px\">Herança</h2>\n",
    "\n",
    "É o mecanismo que uma classe pode herdar atributos e métodos de outra classe.\n",
    "\n",
    "A classe que herdou os atributos/métodos é chamada de subclasse, já a classe de onde foram herdados os atributos/métodos é chamada de superclasse.\n",
    "\n",
    "Sintaxe da sublcasse:\n",
    "\n",
    "```python\n",
    "class Nome_da_subclasse(Nome_da_superclasse):\n",
    "      :\n",
    "      :\n",
    "```    "
   ]
  },
  {
   "cell_type": "code",
   "execution_count": 18,
   "metadata": {},
   "outputs": [],
   "source": [
    "#Criando uma classe chamada Instrumento - superclasse\n",
    "class Instrumento():\n",
    "    def __init__(self, categoria, nome, valor):\n",
    "        print(\"...Instrumento Criado...\")\n",
    "        self.categoria = categoria\n",
    "        self.nome = nome\n",
    "        self.valor = valor\n",
    "        \n",
    "    def cadastrar(self):\n",
    "        print(\"...Instrumento Cadastrado...\")\n",
    "        \n",
    "    def tocar(self):\n",
    "        print(\"SOOOOOMMM\")"
   ]
  },
  {
   "cell_type": "code",
   "execution_count": 19,
   "metadata": {},
   "outputs": [],
   "source": [
    "#Criando uma classe chamada Guitarra - subclasse\n",
    "class Guitarra(Instrumento):\n",
    "    def __init__(self):\n",
    "        Instrumento.__init__(self, categoria=\"Guitarra\", nome=None, valor=None)\n",
    "        print(\"...Guitarra Criada...\")\n",
    "\n",
    "    def cadastrar(self):\n",
    "        print(\"...Guitarra Cadastrada...\")\n",
    "        \n",
    "    def tocar_com_efeito(self):\n",
    "        print(\"SOOOOOMMM + EFEITO\")"
   ]
  },
  {
   "cell_type": "code",
   "execution_count": 20,
   "metadata": {},
   "outputs": [
    {
     "name": "stdout",
     "output_type": "stream",
     "text": [
      "...Instrumento Criado...\n",
      "...Guitarra Criada...\n"
     ]
    }
   ],
   "source": [
    "#Criando a instância da classe Guitarra\n",
    "ibanez = Guitarra()"
   ]
  },
  {
   "cell_type": "code",
   "execution_count": 21,
   "metadata": {},
   "outputs": [
    {
     "name": "stdout",
     "output_type": "stream",
     "text": [
      "Guitarra\n",
      "None\n",
      "None\n"
     ]
    }
   ],
   "source": [
    "#Atributos\n",
    "print(ibanez.categoria)\n",
    "print(ibanez.nome)\n",
    "print(ibanez.valor)"
   ]
  },
  {
   "cell_type": "code",
   "execution_count": 22,
   "metadata": {},
   "outputs": [
    {
     "name": "stdout",
     "output_type": "stream",
     "text": [
      "Ibanez S-series\n",
      "5000.0\n"
     ]
    }
   ],
   "source": [
    "#Atribuindo novos valores para os atributos\n",
    "ibanez.nome = \"Ibanez S-series\"\n",
    "ibanez.valor = 5000.00\n",
    "print(ibanez.nome)\n",
    "print(ibanez.valor)"
   ]
  },
  {
   "cell_type": "code",
   "execution_count": 23,
   "metadata": {},
   "outputs": [
    {
     "name": "stdout",
     "output_type": "stream",
     "text": [
      "...Guitarra Cadastrada...\n"
     ]
    }
   ],
   "source": [
    "#Métodos\n",
    "ibanez.cadastrar()"
   ]
  },
  {
   "cell_type": "code",
   "execution_count": 24,
   "metadata": {},
   "outputs": [
    {
     "name": "stdout",
     "output_type": "stream",
     "text": [
      "SOOOOOMMM\n"
     ]
    }
   ],
   "source": [
    "#Métodos\n",
    "ibanez.tocar()"
   ]
  },
  {
   "cell_type": "code",
   "execution_count": 25,
   "metadata": {},
   "outputs": [
    {
     "name": "stdout",
     "output_type": "stream",
     "text": [
      "SOOOOOMMM + EFEITO\n"
     ]
    }
   ],
   "source": [
    "#Métodos\n",
    "ibanez.tocar_com_efeito()"
   ]
  }
 ],
 "metadata": {
  "kernelspec": {
   "display_name": "Python 3",
   "language": "python",
   "name": "python3"
  },
  "language_info": {
   "codemirror_mode": {
    "name": "ipython",
    "version": 3
   },
   "file_extension": ".py",
   "mimetype": "text/x-python",
   "name": "python",
   "nbconvert_exporter": "python",
   "pygments_lexer": "ipython3",
   "version": "3.8.10"
  },
  "nbTranslate": {
   "displayLangs": [
    "*"
   ],
   "hotkey": "alt-t",
   "langInMainMenu": true,
   "sourceLang": "en",
   "targetLang": "br",
   "useGoogleTranslate": true
  },
  "toc": {
   "base_numbering": 1,
   "nav_menu": {},
   "number_sections": true,
   "sideBar": true,
   "skip_h1_title": false,
   "title_cell": "Table of Contents",
   "title_sidebar": "Contents",
   "toc_cell": false,
   "toc_position": {
    "height": "calc(100% - 180px)",
    "left": "10px",
    "top": "150px",
    "width": "432.833px"
   },
   "toc_section_display": true,
   "toc_window_display": false
  }
 },
 "nbformat": 4,
 "nbformat_minor": 4
}
