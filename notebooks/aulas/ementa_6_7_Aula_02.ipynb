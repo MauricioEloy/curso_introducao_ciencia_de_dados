{
 "cells": [
  {
   "cell_type": "markdown",
   "id": "2f18286b",
   "metadata": {
    "ExecuteTime": {
     "end_time": "2021-05-24T12:12:36.678617Z",
     "start_time": "2021-05-24T12:12:36.668812Z"
    }
   },
   "source": [
    "<p> <img src=\"../imagens/LOGO_2.png\"  align=\"midle\"></p>\n",
    "\n",
    "**Data Science**<br>\n",
    "\n",
    "*profmauricioeloy@gmail.com | mauricioeloy@usp.br<br>*"
   ]
  },
  {
   "cell_type": "markdown",
   "id": "a372b358",
   "metadata": {},
   "source": [
    "**Sumário:**\n",
    "\n",
    "* [1. Objetivos](#1)\n",
    "* [2. Variáveis](#2)\n",
    "    * [2.1 Atribuições](#2.1)\n",
    "    * [2.2 Nomes de Variáveis](#2.2)\n",
    "        * [2.2.1 MAIÚSCULO e minúsculo](#2.2.1)\n",
    "        * [2.2.2 Iniciar com Números](#2.2.2)\n",
    "        * [2.2.3 Palavras Reservadas](#2.2.3)\n",
    "    * [2.3 Tipo e Referência](#2.3)\n",
    "        * [2.3.1 Tipo](#2.3.1)\n",
    "        * [2.3.2 Referência](#2.3.2)\n",
    "* [3. Operações Básicas](#3)\n",
    "    * [3.1 Números](#3.1)\n",
    "    * [3.2 Strings](#3.2)\n",
    "* [4. Sequências](#4)\n",
    "    * [4.1 Tipos](#4.1)\n",
    "        * [4.1.1 Tupla](#4.1.1)\n",
    "        * [4.1.2 Lista](#4.1.2)\n",
    "        * [4.1.3 String: uma \"tupla\" específica](#4.1.3)\n",
    "    * [4.2 Fatiamento](#4.2)\n",
    "    * [4.3 Operações Elementares](#4.3)\n",
    "        * [4.3.1 Concatenação (operador \"+\")](#4.3.1)\n",
    "        * [4.3.2 Operador \"in\" em sequências](#4.3.2)\n",
    "        * [4.3.3 Extras](#4.3.3)\n",
    "        * [4.3.4 Strings](#4.3.4)\n",
    "* [5. Dicionários](#5)\n",
    "* [6. Exercícios](#6)\n",
    "    * [6.1 ](#6.1)\n",
    "    * [6.2 ](#6.2)\n",
    "    * [6.3 ](#6.3)\n"
   ]
  },
  {
   "cell_type": "markdown",
   "id": "863583ec",
   "metadata": {},
   "source": [
    "<a id=\"1\"></a>\n",
    "<h1 style=\"background-color:#084d6e;font-family:newtimeroman;font-size:300%;color:white;text-align:center;border-radius: 15px 50px\">Objetivos</h1>\n",
    "\n",
    "1. Compreender o que são variáveis;\n",
    "2. Entender como ocorre a atribuição de variáveis em Python;\n",
    "3. Verificar os tipos básicos de dados;\n",
    "4. Efetuar operações básicas com números e strings;\n",
    "5. Compreender o que são sequências em Python;\n",
    "6. Efetuar operações com sequências;\n",
    "7. Entender o que são dicionários e como manipulá-los."
   ]
  },
  {
   "cell_type": "markdown",
   "id": "66e88c68",
   "metadata": {},
   "source": [
    "<a id=\"2\"></a>\n",
    "<h1 style=\"background-color:#084d6e;font-family:newtimeroman;font-size:300%;color:white;text-align:center;border-radius: 15px 50px\">Variáveis</h1>\n",
    "\n",
    "**VEJA O EXEMPLO:**\n",
    "\n",
    "*Índice de Massa Corporal* $$IMC=\\dfrac{peso}{altura²}$$\n",
    "\n",
    "IMC|Classificação\n",
    ":------|:---------\n",
    "abaixo de 18,5 | Abaixo do Peso\n",
    "entre 18,6 e 24,9 | Peso ideal\n",
    "entre 25,0 e 29,9 | Sobrepeso\n",
    "entre 30,0 e 34,9 | Obesidade grau I\n",
    "entre 35,0 e 39,9 | Obesidade grau II (severa)\n",
    "acima de 40 | Obesidade grau III (mórbida)"
   ]
  },
  {
   "cell_type": "markdown",
   "id": "d0915ef6",
   "metadata": {},
   "source": [
    "<a id=\"2.1\"></a>\n",
    "<h2 style=\"background-color:#084d6e;font-family:newtimeroman;font-size:200%;color:white;text-align:center;border-radius: 15px 50px\">Atribuições</h2>"
   ]
  },
  {
   "cell_type": "code",
   "execution_count": 1,
   "id": "aa304abb",
   "metadata": {},
   "outputs": [
    {
     "name": "stdout",
     "output_type": "stream",
     "text": [
      "Tom\n"
     ]
    },
    {
     "data": {
      "text/plain": [
       "True"
      ]
     },
     "execution_count": 1,
     "metadata": {},
     "output_type": "execute_result"
    }
   ],
   "source": [
    "'''\n",
    "atribuição de variáveis\n",
    "'''\n",
    "\n",
    "n_1 = \"Tom\" #nome\n",
    "i_1 = 34 #idade\n",
    "p_1 = 78.0 #peso\n",
    "a_1 = 1.70 #altura\n",
    "e_1 = True #esporte?\n",
    "print(n_1)\n",
    "e_1"
   ]
  },
  {
   "cell_type": "code",
   "execution_count": 2,
   "id": "2c33b9bb",
   "metadata": {},
   "outputs": [],
   "source": [
    "'''\n",
    "atribuição multipla\n",
    "'''\n",
    "\n",
    "n_1, i_1, p_1, a_1, e_1 = \"Tom\", 34, 78.0, 1.71, True"
   ]
  },
  {
   "cell_type": "code",
   "execution_count": 3,
   "id": "460f5db8",
   "metadata": {},
   "outputs": [
    {
     "data": {
      "text/plain": [
       "1.71"
      ]
     },
     "execution_count": 3,
     "metadata": {},
     "output_type": "execute_result"
    }
   ],
   "source": [
    "a_1"
   ]
  },
  {
   "cell_type": "markdown",
   "id": "f5e19332",
   "metadata": {},
   "source": [
    "<a id=\"2.2\"></a>\n",
    "<h2 style=\"background-color:#084d6e;font-family:newtimeroman;font-size:200%;color:white;text-align:center;border-radius: 15px 50px\">Nomes de Variáveis</h2> "
   ]
  },
  {
   "cell_type": "markdown",
   "id": "79b68ca1",
   "metadata": {},
   "source": [
    "<a id=\"2.2.1\"></a>\n",
    "<h3 style=\"background-color:#084d6e;font-family:newtimeroman;font-size:150%;color:white;text-align:center;border-radius: 15px 50px\">MAIÚSCULO e minúsculo</h3>\n",
    "\n"
   ]
  },
  {
   "cell_type": "code",
   "execution_count": 4,
   "id": "8d0f923b",
   "metadata": {},
   "outputs": [],
   "source": [
    "letra_x = 4\n",
    "Letra_x = 5"
   ]
  },
  {
   "cell_type": "code",
   "execution_count": 5,
   "id": "d6e29bf8",
   "metadata": {},
   "outputs": [
    {
     "data": {
      "text/plain": [
       "True"
      ]
     },
     "execution_count": 5,
     "metadata": {},
     "output_type": "execute_result"
    }
   ],
   "source": [
    "letra_x != Letra_x"
   ]
  },
  {
   "cell_type": "markdown",
   "id": "6e7f33bb",
   "metadata": {},
   "source": [
    "<a id=\"2.2.2\"></a>\n",
    "<h3 style=\"background-color:#084d6e;font-family:newtimeroman;font-size:150%;color:white;text-align:center;border-radius: 15px 50px\">Iniciar com Números</h3>\n",
    "\n"
   ]
  },
  {
   "cell_type": "code",
   "execution_count": 6,
   "id": "5e29b932",
   "metadata": {},
   "outputs": [
    {
     "ename": "SyntaxError",
     "evalue": "invalid syntax (<ipython-input-6-9397dee7d4fa>, line 1)",
     "output_type": "error",
     "traceback": [
      "\u001b[0;36m  File \u001b[0;32m\"<ipython-input-6-9397dee7d4fa>\"\u001b[0;36m, line \u001b[0;32m1\u001b[0m\n\u001b[0;31m    2x = 10\u001b[0m\n\u001b[0m     ^\u001b[0m\n\u001b[0;31mSyntaxError\u001b[0m\u001b[0;31m:\u001b[0m invalid syntax\n"
     ]
    }
   ],
   "source": [
    "2x = 10"
   ]
  },
  {
   "cell_type": "markdown",
   "id": "4265c37a",
   "metadata": {},
   "source": [
    "<a id=\"2.2.3\"></a>\n",
    "<h3 style=\"background-color:#084d6e;font-family:newtimeroman;font-size:150%;color:white;text-align:center;border-radius: 15px 50px\">Palavras Reservadas</h3>\n",
    "\n",
    "**Palavras:**\n",
    "\n",
    "\n",
    "* False\n",
    "* await\n",
    "* else\n",
    "* import\n",
    "* pass\n",
    "* None\n",
    "* break\n",
    "* except\n",
    "* in\n",
    "* raise\n",
    "* True\n",
    "* class\n",
    "* finally\n",
    "* is\n",
    "* return\n",
    "* and\n",
    "* continue\n",
    "* for\n",
    "* lambda\n",
    "* try\n",
    "* as\n",
    "* def\n",
    "* from\n",
    "* nonlocal\n",
    "* while\n",
    "* assert\n",
    "* del\n",
    "* global\n",
    "* not\n",
    "* with\n",
    "* async\n",
    "* elif\n",
    "* if\n",
    "* or\n",
    "* yield"
   ]
  },
  {
   "cell_type": "code",
   "execution_count": 7,
   "id": "e6dbb1f2",
   "metadata": {},
   "outputs": [
    {
     "ename": "SyntaxError",
     "evalue": "invalid syntax (<ipython-input-7-1f2a1a29eefe>, line 1)",
     "output_type": "error",
     "traceback": [
      "\u001b[0;36m  File \u001b[0;32m\"<ipython-input-7-1f2a1a29eefe>\"\u001b[0;36m, line \u001b[0;32m1\u001b[0m\n\u001b[0;31m    or = 23\u001b[0m\n\u001b[0m    ^\u001b[0m\n\u001b[0;31mSyntaxError\u001b[0m\u001b[0;31m:\u001b[0m invalid syntax\n"
     ]
    }
   ],
   "source": [
    "or = 23"
   ]
  },
  {
   "cell_type": "code",
   "execution_count": 8,
   "id": "a462ddea",
   "metadata": {},
   "outputs": [
    {
     "data": {
      "text/plain": [
       "['False',\n",
       " 'None',\n",
       " 'True',\n",
       " 'and',\n",
       " 'as',\n",
       " 'assert',\n",
       " 'async',\n",
       " 'await',\n",
       " 'break',\n",
       " 'class',\n",
       " 'continue',\n",
       " 'def',\n",
       " 'del',\n",
       " 'elif',\n",
       " 'else',\n",
       " 'except',\n",
       " 'finally',\n",
       " 'for',\n",
       " 'from',\n",
       " 'global',\n",
       " 'if',\n",
       " 'import',\n",
       " 'in',\n",
       " 'is',\n",
       " 'lambda',\n",
       " 'nonlocal',\n",
       " 'not',\n",
       " 'or',\n",
       " 'pass',\n",
       " 'raise',\n",
       " 'return',\n",
       " 'try',\n",
       " 'while',\n",
       " 'with',\n",
       " 'yield']"
      ]
     },
     "execution_count": 8,
     "metadata": {},
     "output_type": "execute_result"
    }
   ],
   "source": [
    "import keyword\n",
    "\n",
    "keyword.kwlist"
   ]
  },
  {
   "cell_type": "markdown",
   "id": "1e009d49",
   "metadata": {},
   "source": [
    "<a id=\"2.3\"></a>\n",
    "<h2 style=\"background-color:#084d6e;font-family:newtimeroman;font-size:200%;color:white;text-align:center;border-radius: 15px 50px\">Tipo e Referência</h2> "
   ]
  },
  {
   "cell_type": "markdown",
   "id": "53c04ba1",
   "metadata": {},
   "source": [
    "<a id=\"2.3.1\"></a>\n",
    "<h3 style=\"background-color:#084d6e;font-family:newtimeroman;font-size:150%;color:white;text-align:center;border-radius: 15px 50px\">Tipo</h3>\n",
    "\n",
    "As variáveis em Python podem assumir diferentes tipos de dados, os mais comuns são:<br>\n",
    "* **Inteiro:** int<br>\n",
    "* **Ponto Flutuante:** float<br>\n",
    "* **Booleano:** bool<br>\n",
    "* **String:** str<br>\n",
    "\n",
    "Uma das maneiras que podemos utilizar para verificar o tipo é utilizando a função *built-in* \n",
    "```python\n",
    "type()\n",
    "```\n",
    "\n",
    "*Obs:* uma lista com todas as funções built-in disponíveis pode ser verificada neste link: \n",
    "\n",
    "https://docs.python.org/pt-br/3.6/library/functions.html#func-memoryview"
   ]
  },
  {
   "cell_type": "code",
   "execution_count": 9,
   "id": "de68cc57",
   "metadata": {},
   "outputs": [
    {
     "data": {
      "text/plain": [
       "str"
      ]
     },
     "execution_count": 9,
     "metadata": {},
     "output_type": "execute_result"
    }
   ],
   "source": [
    "type(n_1)"
   ]
  },
  {
   "cell_type": "code",
   "execution_count": 10,
   "id": "0495bfc7",
   "metadata": {},
   "outputs": [
    {
     "data": {
      "text/plain": [
       "int"
      ]
     },
     "execution_count": 10,
     "metadata": {},
     "output_type": "execute_result"
    }
   ],
   "source": [
    "type(i_1)"
   ]
  },
  {
   "cell_type": "code",
   "execution_count": 11,
   "id": "f2c2003d",
   "metadata": {},
   "outputs": [
    {
     "data": {
      "text/plain": [
       "float"
      ]
     },
     "execution_count": 11,
     "metadata": {},
     "output_type": "execute_result"
    }
   ],
   "source": [
    "type(a_1)"
   ]
  },
  {
   "cell_type": "code",
   "execution_count": 12,
   "id": "eae8b6ec",
   "metadata": {},
   "outputs": [
    {
     "data": {
      "text/plain": [
       "bool"
      ]
     },
     "execution_count": 12,
     "metadata": {},
     "output_type": "execute_result"
    }
   ],
   "source": [
    "type(e_1)"
   ]
  },
  {
   "cell_type": "markdown",
   "id": "2ea8dc30",
   "metadata": {},
   "source": [
    "<a id=\"2.3.2\"></a>\n",
    "<h3 style=\"background-color:#084d6e;font-family:newtimeroman;font-size:150%;color:white;text-align:center;border-radius: 15px 50px\">Referência</h3>\n",
    "\n",
    "É o endereço de memória onde a atribuição de uma variável foi feita.\n",
    "\n",
    "Para verificar o endereço pode-se a função *built-in* \n",
    "```python\n",
    "id()\n",
    "```"
   ]
  },
  {
   "cell_type": "code",
   "execution_count": 13,
   "id": "54092947",
   "metadata": {},
   "outputs": [
    {
     "data": {
      "text/plain": [
       "140688839095280"
      ]
     },
     "execution_count": 13,
     "metadata": {},
     "output_type": "execute_result"
    }
   ],
   "source": [
    "id(n_1)"
   ]
  },
  {
   "cell_type": "code",
   "execution_count": 14,
   "id": "bfd639f4",
   "metadata": {},
   "outputs": [
    {
     "data": {
      "text/plain": [
       "94460805435744"
      ]
     },
     "execution_count": 14,
     "metadata": {},
     "output_type": "execute_result"
    }
   ],
   "source": [
    "id(i_1)"
   ]
  },
  {
   "cell_type": "code",
   "execution_count": 15,
   "id": "691c357c",
   "metadata": {},
   "outputs": [
    {
     "name": "stdout",
     "output_type": "stream",
     "text": [
      "140688839263664\n"
     ]
    }
   ],
   "source": [
    "n_2 = \"Papaleguas\"\n",
    "print(id(n_2))\n",
    "n_2 = n_1"
   ]
  },
  {
   "cell_type": "code",
   "execution_count": 16,
   "id": "d62f3f79",
   "metadata": {},
   "outputs": [
    {
     "data": {
      "text/plain": [
       "140688839095280"
      ]
     },
     "execution_count": 16,
     "metadata": {},
     "output_type": "execute_result"
    }
   ],
   "source": [
    "id(n_2)"
   ]
  },
  {
   "cell_type": "code",
   "execution_count": 17,
   "id": "be6c10bb",
   "metadata": {},
   "outputs": [
    {
     "name": "stdout",
     "output_type": "stream",
     "text": [
      "=> A variável nome é: Tom o peso dele é: 78.0 ele pratica esporte? True\n"
     ]
    }
   ],
   "source": [
    "print(\"=> A variável nome é:\", n_1, \"o peso dele é:\", p_1,\\\n",
    "     \"ele pratica esporte?\", e_1)"
   ]
  },
  {
   "cell_type": "markdown",
   "id": "bd319f6c",
   "metadata": {},
   "source": [
    "<a id=\"3\"></a>\n",
    "<h1 style=\"background-color:#084d6e;font-family:newtimeroman;font-size:300%;color:white;text-align:center;border-radius: 15px 50px\">Operações Básicas</h1>"
   ]
  },
  {
   "cell_type": "markdown",
   "id": "06ddfc81",
   "metadata": {},
   "source": [
    "<a id=\"3.1\"></a>\n",
    "<h2 style=\"background-color:#084d6e;font-family:newtimeroman;font-size:200%;color:white;text-align:center;border-radius: 15px 50px\">Números</h2>\n",
    "\n",
    "Operador|Significado|Exemplo\n",
    ":------:|:---------:|:-----:\n",
    "+ | Soma | $$3+5=8$$ \n",
    "- | Subtração | $$3-1=2$$ \n",
    "* | Multiplicação | $$3*5=15$$ \n",
    "/ | Divisão | $$20/5=4$$ \n",
    "** | Potência | $$3**2=9$$ \n",
    "% | Módulo | $$21\\%2=1$$ \n",
    "\n",
    "OBS: $21 \\equiv 1 (\\mod 2)$"
   ]
  },
  {
   "cell_type": "code",
   "execution_count": 18,
   "id": "33b04a1e",
   "metadata": {},
   "outputs": [
    {
     "data": {
      "text/plain": [
       "8"
      ]
     },
     "execution_count": 18,
     "metadata": {},
     "output_type": "execute_result"
    }
   ],
   "source": [
    "3 + 5"
   ]
  },
  {
   "cell_type": "code",
   "execution_count": 19,
   "id": "18ba3b4e",
   "metadata": {},
   "outputs": [
    {
     "data": {
      "text/plain": [
       "2"
      ]
     },
     "execution_count": 19,
     "metadata": {},
     "output_type": "execute_result"
    }
   ],
   "source": [
    "3-1"
   ]
  },
  {
   "cell_type": "code",
   "execution_count": 20,
   "id": "a0559efe",
   "metadata": {},
   "outputs": [
    {
     "data": {
      "text/plain": [
       "15"
      ]
     },
     "execution_count": 20,
     "metadata": {},
     "output_type": "execute_result"
    }
   ],
   "source": [
    "3*5"
   ]
  },
  {
   "cell_type": "code",
   "execution_count": 21,
   "id": "ac887b22",
   "metadata": {},
   "outputs": [
    {
     "data": {
      "text/plain": [
       "9"
      ]
     },
     "execution_count": 21,
     "metadata": {},
     "output_type": "execute_result"
    }
   ],
   "source": [
    "3**2"
   ]
  },
  {
   "cell_type": "code",
   "execution_count": 22,
   "id": "eef906de",
   "metadata": {},
   "outputs": [
    {
     "data": {
      "text/plain": [
       "4.0"
      ]
     },
     "execution_count": 22,
     "metadata": {},
     "output_type": "execute_result"
    }
   ],
   "source": [
    "20/5"
   ]
  },
  {
   "cell_type": "code",
   "execution_count": 23,
   "id": "7b869508",
   "metadata": {},
   "outputs": [
    {
     "data": {
      "text/plain": [
       "1"
      ]
     },
     "execution_count": 23,
     "metadata": {},
     "output_type": "execute_result"
    }
   ],
   "source": [
    "21%2"
   ]
  },
  {
   "cell_type": "code",
   "execution_count": 24,
   "id": "b0ac6f24",
   "metadata": {},
   "outputs": [
    {
     "data": {
      "text/plain": [
       "0"
      ]
     },
     "execution_count": 24,
     "metadata": {},
     "output_type": "execute_result"
    }
   ],
   "source": [
    "21%3"
   ]
  },
  {
   "cell_type": "code",
   "execution_count": 25,
   "id": "1e89576e",
   "metadata": {},
   "outputs": [
    {
     "data": {
      "text/plain": [
       "-27"
      ]
     },
     "execution_count": 25,
     "metadata": {},
     "output_type": "execute_result"
    }
   ],
   "source": [
    "pow(-3,3)"
   ]
  },
  {
   "cell_type": "code",
   "execution_count": 26,
   "id": "ce5cfd26",
   "metadata": {},
   "outputs": [
    {
     "data": {
      "text/plain": [
       "27"
      ]
     },
     "execution_count": 26,
     "metadata": {},
     "output_type": "execute_result"
    }
   ],
   "source": [
    "abs(pow(-3,3))"
   ]
  },
  {
   "cell_type": "code",
   "execution_count": 27,
   "id": "506c74a5",
   "metadata": {},
   "outputs": [
    {
     "data": {
      "text/plain": [
       "26.674874320303687"
      ]
     },
     "execution_count": 27,
     "metadata": {},
     "output_type": "execute_result"
    }
   ],
   "source": [
    "'''\n",
    "calculando o IMC\n",
    "'''\n",
    "\n",
    "imc = p_1/(a_1**2)\n",
    "imc"
   ]
  },
  {
   "cell_type": "code",
   "execution_count": 28,
   "id": "8de11f69",
   "metadata": {},
   "outputs": [
    {
     "data": {
      "text/plain": [
       "26.67"
      ]
     },
     "execution_count": 28,
     "metadata": {},
     "output_type": "execute_result"
    }
   ],
   "source": [
    "round(imc,2)"
   ]
  },
  {
   "cell_type": "code",
   "execution_count": 29,
   "id": "1937d84a",
   "metadata": {},
   "outputs": [
    {
     "data": {
      "text/plain": [
       "26"
      ]
     },
     "execution_count": 29,
     "metadata": {},
     "output_type": "execute_result"
    }
   ],
   "source": [
    "int(imc)"
   ]
  },
  {
   "cell_type": "code",
   "execution_count": 30,
   "id": "918d2ffb",
   "metadata": {},
   "outputs": [
    {
     "data": {
      "text/plain": [
       "26.674874320303687"
      ]
     },
     "execution_count": 30,
     "metadata": {},
     "output_type": "execute_result"
    }
   ],
   "source": [
    "imc"
   ]
  },
  {
   "cell_type": "markdown",
   "id": "1d1f1538",
   "metadata": {},
   "source": [
    "<a id=\"3.2\"></a>\n",
    "<h2 style=\"background-color:#084d6e;font-family:newtimeroman;font-size:200%;color:white;text-align:center;border-radius: 15px 50px\">Strings</h2>\n",
    "\n",
    "Operador|Significado|Exemplo\n",
    ":------:|:---------:|:-----:\n",
    "+ | Concatenação | n_1+n_2 \n",
    "* | Replicação | 3*n_1 \n"
   ]
  },
  {
   "cell_type": "code",
   "execution_count": 31,
   "id": "677111db",
   "metadata": {},
   "outputs": [
    {
     "data": {
      "text/plain": [
       "'TomJerry'"
      ]
     },
     "execution_count": 31,
     "metadata": {},
     "output_type": "execute_result"
    }
   ],
   "source": [
    "n_2 = \"Jerry\"\n",
    "\n",
    "n_1 + n_2"
   ]
  },
  {
   "cell_type": "code",
   "execution_count": 32,
   "id": "cf523330",
   "metadata": {},
   "outputs": [
    {
     "data": {
      "text/plain": [
       "'JerryTom'"
      ]
     },
     "execution_count": 32,
     "metadata": {},
     "output_type": "execute_result"
    }
   ],
   "source": [
    "n_2 + n_1"
   ]
  },
  {
   "cell_type": "code",
   "execution_count": 33,
   "id": "9635fca2",
   "metadata": {},
   "outputs": [
    {
     "data": {
      "text/plain": [
       "'JerryJr'"
      ]
     },
     "execution_count": 33,
     "metadata": {},
     "output_type": "execute_result"
    }
   ],
   "source": [
    "n_3 = n_2 + \"Jr\"\n",
    "n_3"
   ]
  },
  {
   "cell_type": "code",
   "execution_count": 34,
   "id": "89abf746",
   "metadata": {},
   "outputs": [
    {
     "data": {
      "text/plain": [
       "'JerryJrJerryJrJerryJr'"
      ]
     },
     "execution_count": 34,
     "metadata": {},
     "output_type": "execute_result"
    }
   ],
   "source": [
    "3*n_3"
   ]
  },
  {
   "cell_type": "markdown",
   "id": "645acfe1",
   "metadata": {},
   "source": [
    "<a id=\"4\"></a>\n",
    "<h1 style=\"background-color:#084d6e;font-family:newtimeroman;font-size:300%;color:white;text-align:center;border-radius: 15px 50px\">Sequências</h1>"
   ]
  },
  {
   "cell_type": "markdown",
   "id": "49a6cbf4",
   "metadata": {},
   "source": [
    "<a id=\"4.1\"></a>\n",
    "<h2 style=\"background-color:#084d6e;font-family:newtimeroman;font-size:200%;color:white;text-align:center;border-radius: 15px 50px\">Tipos</h2>\n",
    "\n",
    "<a id=\"2.3.2\"></a>\n",
    "<h3 style=\"background-color:#084d6e;font-family:newtimeroman;font-size:150%;color:white;text-align:center;border-radius: 15px 50px\">Tupla</h3>\n",
    "\n",
    "* Sequência ordenada de elementos;\n",
    "* Os elementos não precisam ser do mesmo tipo, pode-se utilizar até outra sequência;\n",
    "* Os elementos **NÃO** podem ser alterados;\n",
    "* É definida utilizando-se parenteses."
   ]
  },
  {
   "cell_type": "code",
   "execution_count": 35,
   "id": "be895728",
   "metadata": {},
   "outputs": [
    {
     "data": {
      "text/plain": [
       "('xyz', 3.14, (2, 3, 4), 33)"
      ]
     },
     "execution_count": 35,
     "metadata": {},
     "output_type": "execute_result"
    }
   ],
   "source": [
    "tp = ('xyz', 3.14, (2,3,4), 33)\n",
    "tp"
   ]
  },
  {
   "cell_type": "code",
   "execution_count": 36,
   "id": "eb1c7f62",
   "metadata": {},
   "outputs": [
    {
     "name": "stdout",
     "output_type": "stream",
     "text": [
      "33\n",
      "33\n",
      "xyz\n"
     ]
    }
   ],
   "source": [
    "print(tp[3])\n",
    "print(tp[-1])\n",
    "print(tp[0])"
   ]
  },
  {
   "cell_type": "code",
   "execution_count": 37,
   "id": "52dd4e8e",
   "metadata": {},
   "outputs": [
    {
     "ename": "TypeError",
     "evalue": "'tuple' object does not support item assignment",
     "output_type": "error",
     "traceback": [
      "\u001b[0;31m---------------------------------------------------------------------------\u001b[0m",
      "\u001b[0;31mTypeError\u001b[0m                                 Traceback (most recent call last)",
      "\u001b[0;32m<ipython-input-37-4275bd48d741>\u001b[0m in \u001b[0;36m<module>\u001b[0;34m\u001b[0m\n\u001b[0;32m----> 1\u001b[0;31m \u001b[0mtp\u001b[0m\u001b[0;34m[\u001b[0m\u001b[0;36m0\u001b[0m\u001b[0;34m]\u001b[0m \u001b[0;34m=\u001b[0m \u001b[0;34m'abc'\u001b[0m\u001b[0;34m\u001b[0m\u001b[0;34m\u001b[0m\u001b[0m\n\u001b[0m",
      "\u001b[0;31mTypeError\u001b[0m: 'tuple' object does not support item assignment"
     ]
    }
   ],
   "source": [
    "tp[0] = 'abc'"
   ]
  },
  {
   "cell_type": "markdown",
   "id": "4d9c169e",
   "metadata": {},
   "source": [
    "<a id=\"4.1.2\"></a>\n",
    "<h3 style=\"background-color:#084d6e;font-family:newtimeroman;font-size:150%;color:white;text-align:center;border-radius: 15px 50px\">Lista</h3>\n",
    "\n",
    "* Sequência ordenada de elementos;\n",
    "* Os elementos não precisam ser do mesmo tipo, pode-se utilizar até outra sequência;\n",
    "* Os elementos **PODEM** ser alterados;\n",
    "* É definida utilizando-se colcheteses."
   ]
  },
  {
   "cell_type": "code",
   "execution_count": 38,
   "id": "b183f1c7",
   "metadata": {},
   "outputs": [
    {
     "data": {
      "text/plain": [
       "['xyz', 3.14, (2, 3, 4), 33]"
      ]
     },
     "execution_count": 38,
     "metadata": {},
     "output_type": "execute_result"
    }
   ],
   "source": [
    "ls = ['xyz', 3.14, (2,3,4), 33]\n",
    "ls"
   ]
  },
  {
   "cell_type": "code",
   "execution_count": 39,
   "id": "7cf0d77f",
   "metadata": {},
   "outputs": [
    {
     "name": "stdout",
     "output_type": "stream",
     "text": [
      "<class 'tuple'>\n",
      "<class 'list'>\n"
     ]
    }
   ],
   "source": [
    "print(type(tp))\n",
    "print(type(ls))"
   ]
  },
  {
   "cell_type": "code",
   "execution_count": 40,
   "id": "e6cc1b1c",
   "metadata": {},
   "outputs": [
    {
     "name": "stdout",
     "output_type": "stream",
     "text": [
      "33\n",
      "(2, 3, 4)\n"
     ]
    }
   ],
   "source": [
    "print(ls[3])\n",
    "print(ls[-2])"
   ]
  },
  {
   "cell_type": "code",
   "execution_count": 41,
   "id": "e3ec8053",
   "metadata": {},
   "outputs": [
    {
     "data": {
      "text/plain": [
       "[]"
      ]
     },
     "execution_count": 41,
     "metadata": {},
     "output_type": "execute_result"
    }
   ],
   "source": [
    "new_ls = []\n",
    "new_ls"
   ]
  },
  {
   "cell_type": "code",
   "execution_count": 42,
   "id": "8904fb56",
   "metadata": {},
   "outputs": [
    {
     "data": {
      "text/plain": [
       "[1]"
      ]
     },
     "execution_count": 42,
     "metadata": {},
     "output_type": "execute_result"
    }
   ],
   "source": [
    "new_ls.append(1)\n",
    "new_ls"
   ]
  },
  {
   "cell_type": "code",
   "execution_count": 43,
   "id": "3ff15e83",
   "metadata": {},
   "outputs": [
    {
     "data": {
      "text/plain": [
       "[1, 'A']"
      ]
     },
     "execution_count": 43,
     "metadata": {},
     "output_type": "execute_result"
    }
   ],
   "source": [
    "new_ls.append('A')\n",
    "new_ls"
   ]
  },
  {
   "cell_type": "code",
   "execution_count": 44,
   "id": "7abe7d58",
   "metadata": {},
   "outputs": [
    {
     "data": {
      "text/plain": [
       "['A', 'B', 1, 'A']"
      ]
     },
     "execution_count": 44,
     "metadata": {},
     "output_type": "execute_result"
    }
   ],
   "source": [
    "# ['A', 'B', 1, 'A']\n",
    "new_ls.insert(0,'A') #['A', 1, 'A']\n",
    "new_ls.insert(1, 'B')\n",
    "new_ls"
   ]
  },
  {
   "cell_type": "code",
   "execution_count": 45,
   "id": "4d5844b2",
   "metadata": {},
   "outputs": [
    {
     "data": {
      "text/plain": [
       "['B', 1]"
      ]
     },
     "execution_count": 45,
     "metadata": {},
     "output_type": "execute_result"
    }
   ],
   "source": [
    "del new_ls[0]\n",
    "del new_ls[-1]\n",
    "new_ls"
   ]
  },
  {
   "cell_type": "markdown",
   "id": "b523af93",
   "metadata": {},
   "source": [
    "<a id=\"4.1.3\"></a>\n",
    "<h3 style=\"background-color:#084d6e;font-family:newtimeroman;font-size:150%;color:white;text-align:center;border-radius: 15px 50px\">String: uma \"tupla\" específica</h3>\n",
    "\n"
   ]
  },
  {
   "cell_type": "code",
   "execution_count": 46,
   "id": "e9648b6a",
   "metadata": {},
   "outputs": [
    {
     "data": {
      "text/plain": [
       "'A string é conceitualmente similar a uma tupla'"
      ]
     },
     "execution_count": 46,
     "metadata": {},
     "output_type": "execute_result"
    }
   ],
   "source": [
    "st = \"A string é conceitualmente similar a uma tupla\"\n",
    "\n",
    "st"
   ]
  },
  {
   "cell_type": "code",
   "execution_count": 47,
   "id": "645dddbf",
   "metadata": {},
   "outputs": [
    {
     "name": "stdout",
     "output_type": "stream",
     "text": [
      "A\n",
      "c\n",
      " \n"
     ]
    }
   ],
   "source": [
    "print(st[0])\n",
    "print(st[11])\n",
    "print(st[1])"
   ]
  },
  {
   "cell_type": "code",
   "execution_count": 48,
   "id": "5cc0c8ab",
   "metadata": {},
   "outputs": [
    {
     "ename": "TypeError",
     "evalue": "'str' object does not support item assignment",
     "output_type": "error",
     "traceback": [
      "\u001b[0;31m---------------------------------------------------------------------------\u001b[0m",
      "\u001b[0;31mTypeError\u001b[0m                                 Traceback (most recent call last)",
      "\u001b[0;32m<ipython-input-48-3f3f59f71109>\u001b[0m in \u001b[0;36m<module>\u001b[0;34m\u001b[0m\n\u001b[0;32m----> 1\u001b[0;31m \u001b[0mst\u001b[0m\u001b[0;34m[\u001b[0m\u001b[0;36m0\u001b[0m\u001b[0;34m]\u001b[0m \u001b[0;34m=\u001b[0m \u001b[0;34m\"a\"\u001b[0m\u001b[0;34m\u001b[0m\u001b[0;34m\u001b[0m\u001b[0m\n\u001b[0m",
      "\u001b[0;31mTypeError\u001b[0m: 'str' object does not support item assignment"
     ]
    }
   ],
   "source": [
    "st[0] = \"a\""
   ]
  },
  {
   "cell_type": "markdown",
   "id": "7d08fb14",
   "metadata": {},
   "source": [
    "<a id=\"4.2\"></a>\n",
    "<h2 style=\"background-color:#084d6e;font-family:newtimeroman;font-size:200%;color:white;text-align:center;border-radius: 15px 50px\">Fatiamento</h2>\n",
    "\n",
    "As sequências pode ser fatiadas, ou seja, pode-se criar um subconjunto da sequência inicial. Este fatiamento é normalmente chamado de *slicing*."
   ]
  },
  {
   "cell_type": "code",
   "execution_count": 49,
   "id": "094d00c9",
   "metadata": {},
   "outputs": [
    {
     "name": "stdout",
     "output_type": "stream",
     "text": [
      "Tupla: ('xyz', 3.14, (2, 3, 4), 33)\n",
      "Lista: ['xyz', 3.14, (2, 3, 4), 33]\n",
      "String: A string é conceitualmente similar a uma tupla\n"
     ]
    }
   ],
   "source": [
    "print(\"Tupla:\", tp)\n",
    "print(\"Lista:\", ls)\n",
    "print(\"String:\", st)"
   ]
  },
  {
   "cell_type": "code",
   "execution_count": 50,
   "id": "61cc67da",
   "metadata": {},
   "outputs": [
    {
     "data": {
      "text/plain": [
       "(3.14, (2, 3, 4), 33)"
      ]
     },
     "execution_count": 50,
     "metadata": {},
     "output_type": "execute_result"
    }
   ],
   "source": [
    "tp[1:]"
   ]
  },
  {
   "cell_type": "code",
   "execution_count": 51,
   "id": "4994b34c",
   "metadata": {},
   "outputs": [
    {
     "data": {
      "text/plain": [
       "[3.14, (2, 3, 4)]"
      ]
     },
     "execution_count": 51,
     "metadata": {},
     "output_type": "execute_result"
    }
   ],
   "source": [
    "ls[1:3]"
   ]
  },
  {
   "cell_type": "code",
   "execution_count": 52,
   "id": "5372ee7d",
   "metadata": {},
   "outputs": [
    {
     "data": {
      "text/plain": [
       "'tring é'"
      ]
     },
     "execution_count": 52,
     "metadata": {},
     "output_type": "execute_result"
    }
   ],
   "source": [
    "st[3:10]"
   ]
  },
  {
   "cell_type": "markdown",
   "id": "47374d64",
   "metadata": {},
   "source": [
    "<a id=\"4.3\"></a>\n",
    "<h2 style=\"background-color:#084d6e;font-family:newtimeroman;font-size:200%;color:white;text-align:center;border-radius: 15px 50px\">Operações elementares</h2>\n",
    "\n",
    "<a id=\"4.3.1\"></a>\n",
    "<h3 style=\"background-color:#084d6e;font-family:newtimeroman;font-size:150%;color:white;text-align:center;border-radius: 15px 50px\">Concatenação (operador \"+\")</h3>"
   ]
  },
  {
   "cell_type": "code",
   "execution_count": 53,
   "id": "ada52783",
   "metadata": {},
   "outputs": [
    {
     "name": "stdout",
     "output_type": "stream",
     "text": [
      "['xyz', 3.14, (2, 3, 4), 33]\n",
      "['B', 1]\n"
     ]
    }
   ],
   "source": [
    "print(ls)\n",
    "print(new_ls)"
   ]
  },
  {
   "cell_type": "code",
   "execution_count": 54,
   "id": "d38c047c",
   "metadata": {},
   "outputs": [
    {
     "data": {
      "text/plain": [
       "['xyz', 3.14, (2, 3, 4), 33, 'B', 1, ['a', 0, 1.73]]"
      ]
     },
     "execution_count": 54,
     "metadata": {},
     "output_type": "execute_result"
    }
   ],
   "source": [
    "ls_new_ls_plus = ls + new_ls + [['a', 0, 1.73]]\n",
    "ls_new_ls_plus"
   ]
  },
  {
   "cell_type": "code",
   "execution_count": 57,
   "id": "a8c39aa8",
   "metadata": {},
   "outputs": [
    {
     "data": {
      "text/plain": [
       "4"
      ]
     },
     "execution_count": 57,
     "metadata": {},
     "output_type": "execute_result"
    }
   ],
   "source": [
    "ls_new_ls_plus[2][2]"
   ]
  },
  {
   "cell_type": "markdown",
   "id": "ae7a84ba",
   "metadata": {},
   "source": [
    "<a id=\"4.3.2\"></a>\n",
    "<h3 style=\"background-color:#084d6e;font-family:newtimeroman;font-size:150%;color:white;text-align:center;border-radius: 15px 50px\">Operador \"in\" em sequências</h3>"
   ]
  },
  {
   "cell_type": "code",
   "execution_count": 58,
   "id": "00602b87",
   "metadata": {},
   "outputs": [
    {
     "data": {
      "text/plain": [
       "False"
      ]
     },
     "execution_count": 58,
     "metadata": {},
     "output_type": "execute_result"
    }
   ],
   "source": [
    "0 in ls_new_ls_plus"
   ]
  },
  {
   "cell_type": "code",
   "execution_count": 59,
   "id": "9b643f76",
   "metadata": {},
   "outputs": [
    {
     "data": {
      "text/plain": [
       "False"
      ]
     },
     "execution_count": 59,
     "metadata": {},
     "output_type": "execute_result"
    }
   ],
   "source": [
    "['a', 0, 1.73] not in ls_new_ls_plus"
   ]
  },
  {
   "cell_type": "markdown",
   "id": "60997fca",
   "metadata": {},
   "source": [
    "<a id=\"4.3.3\"></a>\n",
    "<h3 style=\"background-color:#084d6e;font-family:newtimeroman;font-size:150%;color:white;text-align:center;border-radius: 15px 50px\">Extras</h3>"
   ]
  },
  {
   "cell_type": "code",
   "execution_count": 68,
   "id": "9eb1dfc2",
   "metadata": {},
   "outputs": [
    {
     "data": {
      "text/plain": [
       "[100, 2, 3, 5, 7, 11]"
      ]
     },
     "execution_count": 68,
     "metadata": {},
     "output_type": "execute_result"
    }
   ],
   "source": [
    "#lista numerica\n",
    "ls_num = [100, 2, 3, 5, 7, 11]\n",
    "ls_num"
   ]
  },
  {
   "cell_type": "code",
   "execution_count": 69,
   "id": "6b0d6b68",
   "metadata": {},
   "outputs": [
    {
     "data": {
      "text/plain": [
       "6"
      ]
     },
     "execution_count": 69,
     "metadata": {},
     "output_type": "execute_result"
    }
   ],
   "source": [
    "#tamanho\n",
    "len(ls_num)"
   ]
  },
  {
   "cell_type": "code",
   "execution_count": 70,
   "id": "d3f91934",
   "metadata": {},
   "outputs": [
    {
     "data": {
      "text/plain": [
       "100"
      ]
     },
     "execution_count": 70,
     "metadata": {},
     "output_type": "execute_result"
    }
   ],
   "source": [
    "#maior valor\n",
    "max(ls_num)"
   ]
  },
  {
   "cell_type": "code",
   "execution_count": 71,
   "id": "27160fa7",
   "metadata": {},
   "outputs": [
    {
     "data": {
      "text/plain": [
       "2"
      ]
     },
     "execution_count": 71,
     "metadata": {},
     "output_type": "execute_result"
    }
   ],
   "source": [
    "#menor valor\n",
    "min(ls_num)"
   ]
  },
  {
   "cell_type": "code",
   "execution_count": 72,
   "id": "038ffa81",
   "metadata": {},
   "outputs": [
    {
     "data": {
      "text/plain": [
       "2"
      ]
     },
     "execution_count": 72,
     "metadata": {},
     "output_type": "execute_result"
    }
   ],
   "source": [
    "#indice de um valor especifico\n",
    "ls_num.index(3)"
   ]
  },
  {
   "cell_type": "code",
   "execution_count": 73,
   "id": "51ecda80",
   "metadata": {},
   "outputs": [
    {
     "data": {
      "text/plain": [
       "[2, 3, 5, 7, 11, 100]"
      ]
     },
     "execution_count": 73,
     "metadata": {},
     "output_type": "execute_result"
    }
   ],
   "source": [
    "#ordena\n",
    "ls_num.sort()\n",
    "ls_num"
   ]
  },
  {
   "cell_type": "code",
   "execution_count": 74,
   "id": "f2cef850",
   "metadata": {
    "scrolled": true
   },
   "outputs": [
    {
     "name": "stdout",
     "output_type": "stream",
     "text": [
      "[2, 3, 5, 7, 11, 100, 0, 0, 1, 0]\n",
      "[2, 3, 5, 7, 11, 100, 0, 1, 0]\n"
     ]
    }
   ],
   "source": [
    "#deletar a primeira ocorrência do elemento\n",
    "ls_num = ls_num + [0,0,1,0]\n",
    "print(ls_num)\n",
    "ls_num.remove(0)\n",
    "print(ls_num)"
   ]
  },
  {
   "cell_type": "code",
   "execution_count": 75,
   "id": "49f2c69f",
   "metadata": {},
   "outputs": [
    {
     "data": {
      "text/plain": [
       "[2, 3, 7, 11, 100, 0, 1, 0]"
      ]
     },
     "execution_count": 75,
     "metadata": {},
     "output_type": "execute_result"
    }
   ],
   "source": [
    "#remover elemento pelo indice\n",
    "ls_num.pop(2)\n",
    "ls_num"
   ]
  },
  {
   "cell_type": "code",
   "execution_count": 76,
   "id": "ca976b6c",
   "metadata": {},
   "outputs": [
    {
     "data": {
      "text/plain": [
       "[0, 0, 1, 2, 3, 7, 11, 100]"
      ]
     },
     "execution_count": 76,
     "metadata": {},
     "output_type": "execute_result"
    }
   ],
   "source": [
    "#um novo jeito de ordenar - ATENÇÃO\n",
    "sorted(ls_num)"
   ]
  },
  {
   "cell_type": "code",
   "execution_count": 77,
   "id": "459468c0",
   "metadata": {},
   "outputs": [
    {
     "data": {
      "text/plain": [
       "[2, 3, 7, 11, 100, 0, 1, 0]"
      ]
     },
     "execution_count": 77,
     "metadata": {},
     "output_type": "execute_result"
    }
   ],
   "source": [
    "ls_num"
   ]
  },
  {
   "cell_type": "markdown",
   "id": "7e691031",
   "metadata": {},
   "source": [
    "<a id=\"4.3.1\"></a>\n",
    "<h3 style=\"background-color:#084d6e;font-family:newtimeroman;font-size:150%;color:white;text-align:center;border-radius: 15px 50px\">String</h3>\n",
    "\n"
   ]
  },
  {
   "cell_type": "code",
   "execution_count": 78,
   "id": "9f0e5642",
   "metadata": {},
   "outputs": [
    {
     "name": "stdout",
     "output_type": "stream",
     "text": [
      "A string é conceitualmente similar a uma tupla\n"
     ]
    }
   ],
   "source": [
    "print(st)"
   ]
  },
  {
   "cell_type": "code",
   "execution_count": 79,
   "id": "ccbd17df",
   "metadata": {},
   "outputs": [
    {
     "data": {
      "text/plain": [
       "'A STRING É CONCEITUALMENTE SIMILAR A UMA TUPLA'"
      ]
     },
     "execution_count": 79,
     "metadata": {},
     "output_type": "execute_result"
    }
   ],
   "source": [
    "#maiusculo\n",
    "st.upper()"
   ]
  },
  {
   "cell_type": "code",
   "execution_count": 80,
   "id": "4b08fe48",
   "metadata": {},
   "outputs": [
    {
     "data": {
      "text/plain": [
       "'A string é conceitualmente similar a uma tupla'"
      ]
     },
     "execution_count": 80,
     "metadata": {},
     "output_type": "execute_result"
    }
   ],
   "source": [
    "st"
   ]
  },
  {
   "cell_type": "code",
   "execution_count": 81,
   "id": "7e26d997",
   "metadata": {},
   "outputs": [
    {
     "data": {
      "text/plain": [
       "'a string é conceitualmente similar a uma tupla'"
      ]
     },
     "execution_count": 81,
     "metadata": {},
     "output_type": "execute_result"
    }
   ],
   "source": [
    "#minusculo\n",
    "st.lower()"
   ]
  },
  {
   "cell_type": "code",
   "execution_count": 82,
   "id": "968711ec",
   "metadata": {},
   "outputs": [
    {
     "data": {
      "text/plain": [
       "'A string é conceitualmente similar a uma tupla'"
      ]
     },
     "execution_count": 82,
     "metadata": {},
     "output_type": "execute_result"
    }
   ],
   "source": [
    "#primeira maiuscula\n",
    "st.capitalize()"
   ]
  },
  {
   "cell_type": "code",
   "execution_count": 83,
   "id": "ac5a9f18",
   "metadata": {},
   "outputs": [
    {
     "data": {
      "text/plain": [
       "['A', 'string', 'é', 'conceitualmente', 'similar', 'a', 'uma', 'tupla']"
      ]
     },
     "execution_count": 83,
     "metadata": {},
     "output_type": "execute_result"
    }
   ],
   "source": [
    "#dividir a string\n",
    "st.split()"
   ]
  },
  {
   "cell_type": "code",
   "execution_count": 84,
   "id": "6be21c7e",
   "metadata": {},
   "outputs": [
    {
     "data": {
      "text/plain": [
       "['A string ', ' conceitualmente similar a uma tupla']"
      ]
     },
     "execution_count": 84,
     "metadata": {},
     "output_type": "execute_result"
    }
   ],
   "source": [
    "#dividir por algo específico\n",
    "st.split(\"é\")"
   ]
  },
  {
   "cell_type": "code",
   "execution_count": 85,
   "id": "27211a01",
   "metadata": {},
   "outputs": [
    {
     "data": {
      "text/plain": [
       "5"
      ]
     },
     "execution_count": 85,
     "metadata": {},
     "output_type": "execute_result"
    }
   ],
   "source": [
    "#contar ocorrência\n",
    "st.count(\"a\")"
   ]
  },
  {
   "cell_type": "code",
   "execution_count": 86,
   "id": "f5c7f229",
   "metadata": {},
   "outputs": [
    {
     "data": {
      "text/plain": [
       "5"
      ]
     },
     "execution_count": 86,
     "metadata": {},
     "output_type": "execute_result"
    }
   ],
   "source": [
    "#encontrar oposicionamento da primeira aparição\n",
    "st.find(\"i\")"
   ]
  },
  {
   "cell_type": "markdown",
   "id": "bb72a01d",
   "metadata": {},
   "source": [
    "<a id=\"5\"></a>\n",
    "<h1 style=\"background-color:#084d6e;font-family:newtimeroman;font-size:300%;color:white;text-align:center;border-radius: 15px 50px\">Dicionários</h1>\n",
    "\n",
    "Suponha agora que desejamos organizar as informações através de um mapeamento, entre outras palavras, vamos relacionar um conjunto de chaves com um conjunto de valores.\n",
    "\n",
    "Os dicionários são definidos por chaves."
   ]
  },
  {
   "cell_type": "code",
   "execution_count": 87,
   "id": "7ffdc476",
   "metadata": {},
   "outputs": [
    {
     "name": "stdout",
     "output_type": "stream",
     "text": [
      "<class 'dict'>\n"
     ]
    },
    {
     "data": {
      "text/plain": [
       "{'a_1': 1.7, 'a_2': 1.85, 'a_3': 191, 'a_4': 'não foi informada'}"
      ]
     },
     "execution_count": 87,
     "metadata": {},
     "output_type": "execute_result"
    }
   ],
   "source": [
    "dic_alturas = {'a_1': 1.70,\n",
    "              'a_2': 1.85,\n",
    "              'a_3': 191,\n",
    "              'a_4': \"não foi informada\"}\n",
    "print(type(dic_alturas))\n",
    "dic_alturas"
   ]
  },
  {
   "cell_type": "code",
   "execution_count": 88,
   "id": "34765536",
   "metadata": {},
   "outputs": [
    {
     "ename": "KeyError",
     "evalue": "0",
     "output_type": "error",
     "traceback": [
      "\u001b[0;31m---------------------------------------------------------------------------\u001b[0m",
      "\u001b[0;31mKeyError\u001b[0m                                  Traceback (most recent call last)",
      "\u001b[0;32m<ipython-input-88-580fbf5b2644>\u001b[0m in \u001b[0;36m<module>\u001b[0;34m\u001b[0m\n\u001b[0;32m----> 1\u001b[0;31m \u001b[0mdic_alturas\u001b[0m\u001b[0;34m[\u001b[0m\u001b[0;36m0\u001b[0m\u001b[0;34m]\u001b[0m\u001b[0;34m\u001b[0m\u001b[0;34m\u001b[0m\u001b[0m\n\u001b[0m",
      "\u001b[0;31mKeyError\u001b[0m: 0"
     ]
    }
   ],
   "source": [
    "dic_alturas[0]"
   ]
  },
  {
   "cell_type": "code",
   "execution_count": 89,
   "id": "340a6399",
   "metadata": {},
   "outputs": [
    {
     "data": {
      "text/plain": [
       "1.7"
      ]
     },
     "execution_count": 89,
     "metadata": {},
     "output_type": "execute_result"
    }
   ],
   "source": [
    "dic_alturas['a_1']"
   ]
  },
  {
   "cell_type": "code",
   "execution_count": 90,
   "id": "648c3bed",
   "metadata": {},
   "outputs": [
    {
     "data": {
      "text/plain": [
       "{'a_1': 1.7, 'a_2': 1.85, 'a_3': 191, 'a_4': 1.69}"
      ]
     },
     "execution_count": 90,
     "metadata": {},
     "output_type": "execute_result"
    }
   ],
   "source": [
    "dic_alturas['a_4'] = 1.69\n",
    "dic_alturas"
   ]
  },
  {
   "cell_type": "code",
   "execution_count": 91,
   "id": "674094d9",
   "metadata": {},
   "outputs": [
    {
     "data": {
      "text/plain": [
       "{'a_1': 1.7, 'a_2': 1.85, 'a_4': 1.69}"
      ]
     },
     "execution_count": 91,
     "metadata": {},
     "output_type": "execute_result"
    }
   ],
   "source": [
    "#remover\n",
    "del dic_alturas['a_3']\n",
    "dic_alturas"
   ]
  },
  {
   "cell_type": "code",
   "execution_count": 92,
   "id": "8b374c3c",
   "metadata": {},
   "outputs": [
    {
     "data": {
      "text/plain": [
       "dict_keys(['a_1', 'a_2', 'a_4'])"
      ]
     },
     "execution_count": 92,
     "metadata": {},
     "output_type": "execute_result"
    }
   ],
   "source": [
    "#chaves\n",
    "dic_alturas.keys()"
   ]
  },
  {
   "cell_type": "code",
   "execution_count": 93,
   "id": "26ee7676",
   "metadata": {},
   "outputs": [
    {
     "data": {
      "text/plain": [
       "dict_values([1.7, 1.85, 1.69])"
      ]
     },
     "execution_count": 93,
     "metadata": {},
     "output_type": "execute_result"
    }
   ],
   "source": [
    "#valores\n",
    "dic_alturas.values()"
   ]
  },
  {
   "cell_type": "code",
   "execution_count": 94,
   "id": "ac291743",
   "metadata": {},
   "outputs": [
    {
     "data": {
      "text/plain": [
       "dict_items([('a_1', 1.7), ('a_2', 1.85), ('a_4', 1.69)])"
      ]
     },
     "execution_count": 94,
     "metadata": {},
     "output_type": "execute_result"
    }
   ],
   "source": [
    "#pares chave-valor\n",
    "dic_alturas.items()"
   ]
  },
  {
   "cell_type": "markdown",
   "id": "df1cbb86",
   "metadata": {},
   "source": [
    "<a id=\"4\"></a>\n",
    "<h1 style=\"background-color:#084d6e;font-family:newtimeroman;font-size:300%;color:white;text-align:center;border-radius: 15px 50px\">Exercícios</h1>"
   ]
  },
  {
   "cell_type": "markdown",
   "id": "1ffa4149",
   "metadata": {},
   "source": [
    "<a id=\"6.1\"></a>\n",
    "<h2 style=\"background-color:#084d6e;font-family:newtimeroman;font-size:200%;color:white;text-align:center;border-radius: 15px 50px\"></h2> \n",
    "\n",
    "Crie e atribua as variáveis abaixo com os seus dados.\n",
    "```python\n",
    "seu_n =  #seu nome\n",
    "sua_i =  #sua idade\n",
    "seu_p =  #seu peso\n",
    "sua_a =  #sua altura\n",
    "seu_e =  #pratica esporte?\n",
    "```\n",
    "Posteriormente verifique o tipo das variáveis e efetue o cálculo do seu IMC."
   ]
  },
  {
   "cell_type": "markdown",
   "id": "51032fe1",
   "metadata": {},
   "source": [
    "<a id=\"6.2\"></a>\n",
    "<h2 style=\"background-color:#084d6e;font-family:newtimeroman;font-size:200%;color:white;text-align:center;border-radius: 15px 50px\"></h2> \n",
    "\n",
    "Verifique se os operadores \"+\", \"in\" e \"*\" funcionam para tuplas e strings."
   ]
  },
  {
   "cell_type": "markdown",
   "id": "70509cde",
   "metadata": {},
   "source": [
    "<a id=\"6.3\"></a>\n",
    "<h2 style=\"background-color:#084d6e;font-family:newtimeroman;font-size:200%;color:white;text-align:center;border-radius: 15px 50px\"></h2> \n",
    "\n",
    "Pesquise o que os operadores (métodos) ```extend```, ```remove``` e ```reverse``` fazem em listas."
   ]
  }
 ],
 "metadata": {
  "kernelspec": {
   "display_name": "Python 3",
   "language": "python",
   "name": "python3"
  },
  "language_info": {
   "codemirror_mode": {
    "name": "ipython",
    "version": 3
   },
   "file_extension": ".py",
   "mimetype": "text/x-python",
   "name": "python",
   "nbconvert_exporter": "python",
   "pygments_lexer": "ipython3",
   "version": "3.8.10"
  },
  "nbTranslate": {
   "displayLangs": [
    "*"
   ],
   "hotkey": "alt-t",
   "langInMainMenu": true,
   "sourceLang": "en",
   "targetLang": "br",
   "useGoogleTranslate": true
  },
  "toc": {
   "base_numbering": 1,
   "nav_menu": {},
   "number_sections": true,
   "sideBar": true,
   "skip_h1_title": false,
   "title_cell": "Table of Contents",
   "title_sidebar": "Contents",
   "toc_cell": false,
   "toc_position": {
    "height": "calc(100% - 180px)",
    "left": "10px",
    "top": "150px",
    "width": "292.267px"
   },
   "toc_section_display": true,
   "toc_window_display": false
  }
 },
 "nbformat": 4,
 "nbformat_minor": 5
}
