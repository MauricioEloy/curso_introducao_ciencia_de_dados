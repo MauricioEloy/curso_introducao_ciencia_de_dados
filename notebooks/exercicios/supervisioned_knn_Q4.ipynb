{
 "cells": [
  {
   "cell_type": "markdown",
   "metadata": {
    "ExecuteTime": {
     "end_time": "2021-05-04T19:02:34.568789Z",
     "start_time": "2021-05-04T19:02:34.557421Z"
    }
   },
   "source": [
    "<p> <img src=\"../imagens/LOGO_2.png\"  align=\"midle\"></p>\n",
    "\n",
    "\n",
    "**Data Science**<br>\n",
    "\n",
    "*profmauricioeloy@gmail.com <br>*"
   ]
  },
  {
   "cell_type": "markdown",
   "metadata": {},
   "source": [
    "<h1 style=\"background-color:#084d6e;font-family:newtimeroman;font-size:300%;color:white;text-align:center;border-radius: 15px 50px\">Exercício 4</h1>\n",
    "\n",
    "---\n",
    "\n",
    "Considere a base de dados *breast-cancer* disponível no ```sklearn.datasets```, a partir dela você deve treinar um modelo KNN. Essencialmente você deve:\n",
    "   * verificar a quantidade de elementos de cada classe na variável alvo, chamada de ```target```;\n",
    "   * utilizar a proporção de 80% dos dados para treino e 20% para teste;\n",
    "   * obter o melhor valor de k utilizando-se da validação cruzada com o número de *folds* sendo 10 e o *range* de 1 a 25, inclusive, para o valor de k;\n",
    "   * treinar o modelo com o melhor valor possível para k;\n",
    "   * computar o valor da acurácia no conjunto de teste.\n",
    "   \n",
    "---"
   ]
  },
  {
   "cell_type": "markdown",
   "metadata": {},
   "source": [
    "<a id=\"7.1\"></a>\n",
    "<h2 style=\"background-color:#084d6e;font-family:newtimeroman;font-size:200%;color:white;text-align:center;border-radius: 15px 50px\">Bibliotecas</h2>"
   ]
  },
  {
   "cell_type": "code",
   "execution_count": null,
   "metadata": {
    "ExecuteTime": {
     "end_time": "2022-02-04T13:55:39.696987Z",
     "start_time": "2022-02-04T13:55:38.985953Z"
    }
   },
   "outputs": [],
   "source": [
    "import pandas as pd\n",
    "import numpy as np\n",
    "import matplotlib.pyplot as plt\n",
    "import seaborn as sns\n",
    "plt.rc(\"figure\",figsize=(12,6))\n",
    "plt.rc(\"font\",size=15)\n",
    "plt.rc(\"lines\",linewidth=2)\n",
    "sns.set_style(\"darkgrid\")\n",
    "\n",
    "from sklearn.preprocessing import StandardScaler\n",
    "from sklearn.model_selection import train_test_split\n",
    "from sklearn.neighbors import KNeighborsClassifier\n",
    "from sklearn.metrics import accuracy_score\n",
    "from mlxtend.plotting import plot_decision_regions\n",
    "from sklearn.model_selection import cross_validate"
   ]
  },
  {
   "cell_type": "markdown",
   "metadata": {},
   "source": [
    "<a id=\"7.1\"></a>\n",
    "<h2 style=\"background-color:#084d6e;font-family:newtimeroman;font-size:200%;color:white;text-align:center;border-radius: 15px 50px\">Dados</h2>"
   ]
  },
  {
   "cell_type": "code",
   "execution_count": null,
   "metadata": {
    "ExecuteTime": {
     "end_time": "2022-02-04T14:06:22.963571Z",
     "start_time": "2022-02-04T14:06:22.903917Z"
    }
   },
   "outputs": [],
   "source": [
    "from sklearn.datasets import load_breast_cancer\n",
    "breast_cancer = load_breast_cancer()\n",
    "df = pd.DataFrame(data=np.c_[breast_cancer['data'], breast_cancer['target']],\n",
    "                  columns= list(breast_cancer['feature_names'])+['target'])\n",
    "display(df.head())\n",
    "df.info()"
   ]
  },
  {
   "cell_type": "markdown",
   "metadata": {},
   "source": [
    "<a id=\"7.1\"></a>\n",
    "<h2 style=\"background-color:#084d6e;font-family:newtimeroman;font-size:200%;color:white;text-align:center;border-radius: 15px 50px\">Sua Resolução</h2>"
   ]
  },
  {
   "cell_type": "code",
   "execution_count": null,
   "metadata": {},
   "outputs": [],
   "source": [
    "'''\n",
    "A partir desta célula você deve resolver o problema conforme foi proposto\n",
    "'''"
   ]
  }
 ],
 "metadata": {
  "kernelspec": {
   "display_name": "Python 3 (ipykernel)",
   "language": "python",
   "name": "python3"
  },
  "language_info": {
   "codemirror_mode": {
    "name": "ipython",
    "version": 3
   },
   "file_extension": ".py",
   "mimetype": "text/x-python",
   "name": "python",
   "nbconvert_exporter": "python",
   "pygments_lexer": "ipython3",
   "version": "3.9.7"
  },
  "nbTranslate": {
   "displayLangs": [
    "*"
   ],
   "hotkey": "alt-t",
   "langInMainMenu": true,
   "sourceLang": "en",
   "targetLang": "br",
   "useGoogleTranslate": true
  },
  "toc": {
   "base_numbering": 1,
   "nav_menu": {},
   "number_sections": true,
   "sideBar": true,
   "skip_h1_title": false,
   "title_cell": "Table of Contents",
   "title_sidebar": "Contents",
   "toc_cell": false,
   "toc_position": {
    "height": "calc(100% - 180px)",
    "left": "10px",
    "top": "150px",
    "width": "432.833px"
   },
   "toc_section_display": true,
   "toc_window_display": true
  },
  "varInspector": {
   "cols": {
    "lenName": 16,
    "lenType": 16,
    "lenVar": 40
   },
   "kernels_config": {
    "python": {
     "delete_cmd_postfix": "",
     "delete_cmd_prefix": "del ",
     "library": "var_list.py",
     "varRefreshCmd": "print(var_dic_list())"
    },
    "r": {
     "delete_cmd_postfix": ") ",
     "delete_cmd_prefix": "rm(",
     "library": "var_list.r",
     "varRefreshCmd": "cat(var_dic_list()) "
    }
   },
   "types_to_exclude": [
    "module",
    "function",
    "builtin_function_or_method",
    "instance",
    "_Feature"
   ],
   "window_display": false
  }
 },
 "nbformat": 4,
 "nbformat_minor": 4
}
