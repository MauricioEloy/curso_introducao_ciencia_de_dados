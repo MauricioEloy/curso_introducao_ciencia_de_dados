{
 "cells": [
  {
   "cell_type": "markdown",
   "metadata": {
    "ExecuteTime": {
     "end_time": "2021-05-04T19:02:34.568789Z",
     "start_time": "2021-05-04T19:02:34.557421Z"
    }
   },
   "source": [
    "<p> <img src=\"../../imagens/LOGO_2.png\"  align=\"midle\"></p>\n",
    "\n",
    "**Data Science**<br>\n",
    "\n",
    "*profmauricioeloy@gmail.com | mauricioeloy@usp.br<br>*"
   ]
  },
  {
   "cell_type": "markdown",
   "metadata": {},
   "source": [
    "**Sumário:**\n",
    "\n",
    "* [1. Exercícios](#1)\n",
    "    * [1.1 ](#1.1)\n",
    "    * [1.2 ](#1.2)\n",
    "    * [1.3 ](#1.3)\n",
    "    * [1.4 ](#1.4)\n",
    "    * [1.5 ](#1.5)\n",
    "    * [1.6 ](#1.6)"
   ]
  },
  {
   "cell_type": "markdown",
   "metadata": {},
   "source": [
    "<a id=\"1\"></a>\n",
    "<h1 style=\"background-color:#084d6e;font-family:newtimeroman;font-size:300%;color:white;text-align:center;border-radius: 15px 50px\">Exercícios</h1>"
   ]
  },
  {
   "cell_type": "markdown",
   "metadata": {},
   "source": [
    "<a id=\"1.1\"></a>\n",
    "<h2 style=\"background-color:#084d6e;font-family:newtimeroman;font-size:200%;color:white;text-align:center;border-radius: 15px 50px\"></h2>\n",
    "\n",
    "Crie uma lista com 5 elementos e calcule a raiz quadrada de cada elemento."
   ]
  },
  {
   "cell_type": "code",
   "execution_count": null,
   "metadata": {},
   "outputs": [],
   "source": []
  },
  {
   "cell_type": "code",
   "execution_count": null,
   "metadata": {},
   "outputs": [],
   "source": []
  },
  {
   "cell_type": "code",
   "execution_count": null,
   "metadata": {},
   "outputs": [],
   "source": []
  },
  {
   "cell_type": "markdown",
   "metadata": {},
   "source": [
    "<a id=\"1.2\"></a>\n",
    "<h2 style=\"background-color:#084d6e;font-family:newtimeroman;font-size:200%;color:white;text-align:center;border-radius: 15px 50px\"></h2>\n",
    "\n",
    "Dada uma lista contendo os 100 primeiros números inteiros, obtenha uma lista filtrada apenas com os números pares."
   ]
  },
  {
   "cell_type": "code",
   "execution_count": null,
   "metadata": {},
   "outputs": [],
   "source": []
  },
  {
   "cell_type": "code",
   "execution_count": null,
   "metadata": {},
   "outputs": [],
   "source": []
  },
  {
   "cell_type": "code",
   "execution_count": null,
   "metadata": {},
   "outputs": [],
   "source": []
  },
  {
   "cell_type": "markdown",
   "metadata": {},
   "source": [
    "<a id=\"1.3\"></a>\n",
    "<h2 style=\"background-color:#084d6e;font-family:newtimeroman;font-size:200%;color:white;text-align:center;border-radius: 15px 50px\"></h2>\n",
    "\n",
    "Considere a lista contendo os times da séria A do campeonato brasileiro de futebol de 2021.\n",
    "```python\n",
    "times_2021 = ['fortaleza', 'athletico Paranaense', 'atlético Goianiense','red Bull Bragantino', ' bahia', 'fluminense', 'palmeiras','flamengo', 'atlético Mineiro', 'corinthians', 'ceará', 'santos', 'cuiabá', 'sport', 'são Paulo', 'juventude', 'internacional', ' grêmio', 'américa Mineiro', 'chapecoense']\n",
    "```\n",
    "\n",
    "Construa uma nova lista chamada ```times_brasileirao_2021``` que tenha os nomes dos times contidos na lista ```times_2021``` corrigidos, ou seja, que a primeira letra de cada nome esteja em maiúsculo."
   ]
  },
  {
   "cell_type": "code",
   "execution_count": null,
   "metadata": {},
   "outputs": [],
   "source": []
  },
  {
   "cell_type": "code",
   "execution_count": null,
   "metadata": {},
   "outputs": [],
   "source": []
  },
  {
   "cell_type": "code",
   "execution_count": null,
   "metadata": {},
   "outputs": [],
   "source": []
  },
  {
   "cell_type": "markdown",
   "metadata": {},
   "source": [
    " <a id=\"1.4\"></a>\n",
    "<h2 style=\"background-color:#084d6e;font-family:newtimeroman;font-size:200%;color:white;text-align:center;border-radius: 15px 50px\"></h2>\n",
    "\n",
    "Considerando a lista ```times_brasileirao_2021```, construa uma nova lista, ```times_menor_7```, contendo os times que contenham no máximo 6 caracteres.\n",
    "\n"
   ]
  },
  {
   "cell_type": "code",
   "execution_count": null,
   "metadata": {},
   "outputs": [],
   "source": []
  },
  {
   "cell_type": "code",
   "execution_count": null,
   "metadata": {},
   "outputs": [],
   "source": []
  },
  {
   "cell_type": "code",
   "execution_count": null,
   "metadata": {},
   "outputs": [],
   "source": []
  },
  {
   "cell_type": "markdown",
   "metadata": {
    "ExecuteTime": {
     "end_time": "2021-06-02T19:16:23.623947Z",
     "start_time": "2021-06-02T19:16:23.599115Z"
    }
   },
   "source": [
    "<a id=\"1.5\"></a>\n",
    "<h2 style=\"background-color:#084d6e;font-family:newtimeroman;font-size:200%;color:white;text-align:center;border-radius: 15px 50px\"></h2>\n",
    "\n",
    "Calcule o número total de caracteres da lista ```times_brasileirao_2021```."
   ]
  },
  {
   "cell_type": "code",
   "execution_count": null,
   "metadata": {},
   "outputs": [],
   "source": []
  },
  {
   "cell_type": "code",
   "execution_count": null,
   "metadata": {},
   "outputs": [],
   "source": []
  },
  {
   "cell_type": "code",
   "execution_count": null,
   "metadata": {},
   "outputs": [],
   "source": []
  },
  {
   "cell_type": "markdown",
   "metadata": {},
   "source": [
    "\n",
    "<a id=\"1.6\"></a>\n",
    "<h2 style=\"background-color:#084d6e;font-family:newtimeroman;font-size:200%;color:white;text-align:center;border-radius: 15px 50px\"></h2>\n",
    "\n",
    "A respectiva pontuação de cada time da lista ```times_brasileirao_2021``` no dia 09/06/2021 está registrada na lista ```pontos_09_06_2021```\n",
    "\n",
    "```python\n",
    "pontos_09_06_2021 = [6, 6, 6, 4, 4, 4, 3, 3, 3, 3, 3, 3, 1, 1, 1, 1, 1, 0, 0, 0]\n",
    "```\n",
    "\n",
    "Utilizando a duas listas crie um dicionário onda as chaves serão o nome dos times e os valores a sua respectiva pontuação."
   ]
  },
  {
   "cell_type": "markdown",
   "metadata": {},
   "source": [
    "\n",
    "<a id=\"1.7\"></a>\n",
    "<h2 style=\"background-color:#084d6e;font-family:newtimeroman;font-size:200%;color:white;text-align:center;border-radius: 15px 50px\"></h2>\n",
    "\n",
    "A lista de velocidades ```vel_iot``` abaixo, contem as velocidades (km/h) capturadas por um dispositivo iot. Utilizando-se da importação da biblioteca ```statistics``` calcule a média, a mediana e a moda dessas velocidades.\n",
    "\n",
    "```python\n",
    "vel_iot = [61.71, 7.15, 15.81, 13.67, 39.43, 64.35, 38.79, 30.3, 57.0, 89.48, 38.57, 65.99, 32.64, 43.53, 24.47, 15.84, 7.68, 36.2, 52.45, 46.81, 0.19, 71.7, 35.87, 59.23, 78.04, 2.01, 10.08, 10.88, 75.98, 39.43, 48.98, 72.23, 75.43, 36.64, 62.33, 34.73, 44.32, 25.07, 64.82, 39.11, 26.7, 60.54, 28.95, 23.27, 43.21, 51.81, 50.93, 98.99, 58.04, 88.25, 82.61, 14.2, 49.39, 93.12, 39.43, 17.29, 2.15, 48.35, 14.61, 58.22, 32.73, 64.6, 9.25, 67.61, 61.46, 54.6, 62.96, 33.96, 43.2, 68.56, 2.82, 62.02, 34.5, 79.85, 90.77, 79.42, 21.92, 68.54, 73.96, 96.15, 69.49, 29.37, 48.67, 90.04, 77.67, 38.12, 17.18, 58.04, 60.74, 60.07, 19.78, 91.96, 32.98, 39.43, 26.89, 45.51, 3.91, 60.5, 77.79, 41.0]\n",
    "```\n",
    "\n"
   ]
  },
  {
   "cell_type": "code",
   "execution_count": null,
   "metadata": {},
   "outputs": [],
   "source": []
  },
  {
   "cell_type": "code",
   "execution_count": null,
   "metadata": {},
   "outputs": [],
   "source": []
  },
  {
   "cell_type": "code",
   "execution_count": null,
   "metadata": {},
   "outputs": [],
   "source": []
  }
 ],
 "metadata": {
  "kernelspec": {
   "display_name": "Python 3",
   "language": "python",
   "name": "python3"
  },
  "language_info": {
   "codemirror_mode": {
    "name": "ipython",
    "version": 3
   },
   "file_extension": ".py",
   "mimetype": "text/x-python",
   "name": "python",
   "nbconvert_exporter": "python",
   "pygments_lexer": "ipython3",
   "version": "3.8.10"
  },
  "nbTranslate": {
   "displayLangs": [
    "*"
   ],
   "hotkey": "alt-t",
   "langInMainMenu": true,
   "sourceLang": "en",
   "targetLang": "br",
   "useGoogleTranslate": true
  },
  "toc": {
   "base_numbering": 1,
   "nav_menu": {},
   "number_sections": true,
   "sideBar": true,
   "skip_h1_title": false,
   "title_cell": "Table of Contents",
   "title_sidebar": "Contents",
   "toc_cell": false,
   "toc_position": {
    "height": "calc(100% - 180px)",
    "left": "10px",
    "top": "150px",
    "width": "432.833px"
   },
   "toc_section_display": true,
   "toc_window_display": false
  }
 },
 "nbformat": 4,
 "nbformat_minor": 4
}
