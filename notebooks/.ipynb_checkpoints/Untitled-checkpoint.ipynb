{
 "cells": [
  {
   "cell_type": "markdown",
   "id": "2f18286b",
   "metadata": {
    "ExecuteTime": {
     "end_time": "2021-05-24T12:12:36.678617Z",
     "start_time": "2021-05-24T12:12:36.668812Z"
    }
   },
   "source": [
    "<p> <img src=\"../imagens/LOGO_2.png\"  align=\"midle\"></p>\n",
    "\n",
    "**Data Science**<br>\n",
    "\n",
    "*profmauricioeloy@gmail.com | mauricioeloy@usp.br<br>*"
   ]
  },
  {
   "cell_type": "markdown",
   "id": "a372b358",
   "metadata": {},
   "source": [
    "**Sumário:**\n",
    "\n",
    "* [1. Objetivos](#1)\n",
    "* [2. Problemas](#2)\n",
    "    * [2.1 Classificação de Animais](#2.1)\n",
    "    * [2.2 Marketing de Cartão de Crédito](#2.2)\n",
    "    * [2.3 Classificação de Whisky escocês](#2.3)\n",
    "* [3. Objetivo](#3)\n",
    "* [4. Motivação](#4)\n",
    "* [5. Definições](#5)\n",
    "    * [Tipos de Medidas](#5.1)\n",
    "    * [Métricas de Distância](#5.2)\n",
    "* [6. Algoritmo KNN](#6)\n",
    "    * [6.1 Etapas](#6.1)\n",
    "    * [6.2 Superfície de Decisão](#6.2)\n",
    "    * [6.3 Problemas Gerados na Escolha de k](#6.3)\n",
    "    * [6.4 Como obter o melhor valor de k](#6.4)\n",
    "* [7. Algoritmo na Prática](#7)\n",
    "    * [Bibliotecas](#7.1)\n",
    "    * [Dados](#7.2)\n",
    "    * [Modelo](#7.3)\n",
    "        * [7.3.1 Geral](#7.3.1)\n",
    "        * [7.3.2 Melhor valor para k](#7.3.2)\n",
    "        * [7.3.3 Modelo com o melhor k](#7.3.3)\n",
    "        * [7.3.4 Região de Separação](#7.3.4)\n",
    "* [8. Aspectos Positivos e Negativos](#8)\n",
    "    "
   ]
  },
  {
   "cell_type": "markdown",
   "id": "863583ec",
   "metadata": {},
   "source": [
    "<a id=\"1\"></a>\n",
    "<h1 style=\"background-color:#084d6e;font-family:newtimeroman;font-size:300%;color:white;text-align:center;border-radius: 15px 50px\">Objetivos</h1>\n",
    "\n",
    "1. Compreender o que são variáveis;\n",
    "2. Entender como ocorre a atribuição de variáveis em Python;\n",
    "3. Verificar os tipos básicos de dados;\n",
    "4. Efetuar operações básicas com números e strings;\n",
    "5. Compreender o que são sequências em Python;\n",
    "6. Efetuar operações com sequências;\n",
    "7. Entender o que são dicionários e como manipulá-los."
   ]
  },
  {
   "cell_type": "markdown",
   "id": "66e88c68",
   "metadata": {},
   "source": [
    "<a id=\"2\"></a>\n",
    "<h1 style=\"background-color:#084d6e;font-family:newtimeroman;font-size:300%;color:white;text-align:center;border-radius: 15px 50px\">Variáveis</h1>\n",
    "\n",
    "**VEJA O EXEMPLO:**\n",
    "\n",
    "*Índice de Massa Corporal* $$IMC=\\dfrac{peso}{altura²}$$\n",
    "\n",
    "IMC|Classificação\n",
    ":------|:---------\n",
    "abaixo de 18,5 | Abaixo do Peso\n",
    "entre 18,6 e 24,9 | Peso ideal\n",
    "entre 25,0 e 29,9 | Sobrepeso\n",
    "entre 30,0 e 34,9 | Obesidade grau I\n",
    "entre 35,0 e 39,9 | Obesidade grau II (severa)\n",
    "acima de 40 | Obesidade grau III (mórbida)"
   ]
  },
  {
   "cell_type": "markdown",
   "id": "d0915ef6",
   "metadata": {},
   "source": [
    "<a id=\"2.1\"></a>\n",
    "<h2 style=\"background-color:#084d6e;font-family:newtimeroman;font-size:200%;color:white;text-align:center;border-radius: 15px 50px\">Atribuições</h2>"
   ]
  },
  {
   "cell_type": "code",
   "execution_count": 57,
   "id": "ccb3e5ba",
   "metadata": {
    "ExecuteTime": {
     "end_time": "2021-05-24T15:49:45.323297Z",
     "start_time": "2021-05-24T15:49:45.315915Z"
    }
   },
   "outputs": [],
   "source": [
    "'''\n",
    "atribuição de variáveis\n",
    "'''\n",
    "\n",
    "n_1 = \"Tom\" #nome\n",
    "i_1 = 34 #idade\n",
    "p_1 = 78.0 #peso\n",
    "a_1 = 1.70 #altura\n",
    "e_1 = True #esporte"
   ]
  },
  {
   "cell_type": "code",
   "execution_count": 69,
   "id": "f37a52dc",
   "metadata": {
    "ExecuteTime": {
     "end_time": "2021-05-24T17:28:54.773698Z",
     "start_time": "2021-05-24T17:28:54.765859Z"
    }
   },
   "outputs": [
    {
     "data": {
      "text/plain": [
       "'Tom'"
      ]
     },
     "execution_count": 69,
     "metadata": {},
     "output_type": "execute_result"
    }
   ],
   "source": [
    "n_1"
   ]
  },
  {
   "cell_type": "code",
   "execution_count": 70,
   "id": "fa180e69",
   "metadata": {
    "ExecuteTime": {
     "end_time": "2021-05-24T17:29:02.789685Z",
     "start_time": "2021-05-24T17:29:02.782194Z"
    }
   },
   "outputs": [
    {
     "name": "stdout",
     "output_type": "stream",
     "text": [
      "True\n"
     ]
    }
   ],
   "source": [
    "print(e_1)"
   ]
  },
  {
   "cell_type": "code",
   "execution_count": 71,
   "id": "ef4d9c4d",
   "metadata": {
    "ExecuteTime": {
     "end_time": "2021-05-24T17:29:57.095317Z",
     "start_time": "2021-05-24T17:29:57.088558Z"
    }
   },
   "outputs": [],
   "source": [
    "'''\n",
    "atribuição múltipla\n",
    "'''\n",
    "\n",
    "n_1, i_1, p_1, a_1, e_1 = \"Tom\", 34, 78.0, 1.71, True "
   ]
  },
  {
   "cell_type": "markdown",
   "id": "a36a207b",
   "metadata": {},
   "source": [
    "<a id=\"2.2\"></a>\n",
    "<h2 style=\"background-color:#084d6e;font-family:newtimeroman;font-size:200%;color:white;text-align:center;border-radius: 15px 50px\">Nomes de Variáveis</h2> "
   ]
  },
  {
   "cell_type": "markdown",
   "id": "2e4634b4",
   "metadata": {},
   "source": [
    "<a id=\"2.2.1\"></a>\n",
    "<h3 style=\"background-color:#084d6e;font-family:newtimeroman;font-size:150%;color:white;text-align:center;border-radius: 15px 50px\">MAIÚSCULO e minúsculo</h3>\n",
    "\n"
   ]
  },
  {
   "cell_type": "code",
   "execution_count": 93,
   "id": "41292e42",
   "metadata": {
    "ExecuteTime": {
     "end_time": "2021-05-24T17:39:13.268841Z",
     "start_time": "2021-05-24T17:39:13.261658Z"
    }
   },
   "outputs": [],
   "source": [
    " x = 4\n",
    " X = 5"
   ]
  },
  {
   "cell_type": "code",
   "execution_count": 94,
   "id": "1ab54469",
   "metadata": {
    "ExecuteTime": {
     "end_time": "2021-05-24T17:39:16.266873Z",
     "start_time": "2021-05-24T17:39:16.263062Z"
    }
   },
   "outputs": [
    {
     "data": {
      "text/plain": [
       "False"
      ]
     },
     "execution_count": 94,
     "metadata": {},
     "output_type": "execute_result"
    }
   ],
   "source": [
    "x == X"
   ]
  },
  {
   "cell_type": "markdown",
   "id": "5158f1d7",
   "metadata": {},
   "source": [
    "<a id=\"2.2.2\"></a>\n",
    "<h3 style=\"background-color:#084d6e;font-family:newtimeroman;font-size:150%;color:white;text-align:center;border-radius: 15px 50px\">Iniciar com Números</h3>\n",
    "\n"
   ]
  },
  {
   "cell_type": "code",
   "execution_count": 96,
   "id": "2331d405",
   "metadata": {
    "ExecuteTime": {
     "end_time": "2021-05-24T17:43:00.866930Z",
     "start_time": "2021-05-24T17:43:00.861090Z"
    }
   },
   "outputs": [
    {
     "ename": "SyntaxError",
     "evalue": "cannot assign to operator (<ipython-input-96-ad6b2a2aef0d>, line 1)",
     "output_type": "error",
     "traceback": [
      "\u001b[0;36m  File \u001b[0;32m\"<ipython-input-96-ad6b2a2aef0d>\"\u001b[0;36m, line \u001b[0;32m1\u001b[0m\n\u001b[0;31m    2*x = 3\u001b[0m\n\u001b[0m    ^\u001b[0m\n\u001b[0;31mSyntaxError\u001b[0m\u001b[0;31m:\u001b[0m cannot assign to operator\n"
     ]
    }
   ],
   "source": [
    "2x = 3"
   ]
  },
  {
   "cell_type": "markdown",
   "id": "6ac78656",
   "metadata": {},
   "source": [
    "<a id=\"2.2.3\"></a>\n",
    "<h3 style=\"background-color:#084d6e;font-family:newtimeroman;font-size:150%;color:white;text-align:center;border-radius: 15px 50px\">Palavras Reservadas</h3>\n",
    "\n",
    "**Palavras:**\n",
    "\n",
    "\n",
    "* False\n",
    "* await\n",
    "* else\n",
    "* import\n",
    "* pass\n",
    "* None\n",
    "* break\n",
    "* except\n",
    "* in\n",
    "* raise\n",
    "* True\n",
    "* class\n",
    "* finally\n",
    "* is\n",
    "* return\n",
    "* and\n",
    "* continue\n",
    "* for\n",
    "* lambda\n",
    "* try\n",
    "* as\n",
    "* def\n",
    "* from\n",
    "* nonlocal\n",
    "* while\n",
    "* assert\n",
    "* del\n",
    "* global\n",
    "* not\n",
    "* with\n",
    "* async\n",
    "* elif\n",
    "* if\n",
    "* or\n",
    "* yield"
   ]
  },
  {
   "cell_type": "code",
   "execution_count": 112,
   "id": "06cc0b0f",
   "metadata": {
    "ExecuteTime": {
     "end_time": "2021-05-24T18:07:50.328253Z",
     "start_time": "2021-05-24T18:07:50.317356Z"
    }
   },
   "outputs": [
    {
     "ename": "SyntaxError",
     "evalue": "invalid syntax (<ipython-input-112-7c8f538c555d>, line 1)",
     "output_type": "error",
     "traceback": [
      "\u001b[0;36m  File \u001b[0;32m\"<ipython-input-112-7c8f538c555d>\"\u001b[0;36m, line \u001b[0;32m1\u001b[0m\n\u001b[0;31m    or = 13\u001b[0m\n\u001b[0m    ^\u001b[0m\n\u001b[0;31mSyntaxError\u001b[0m\u001b[0;31m:\u001b[0m invalid syntax\n"
     ]
    }
   ],
   "source": [
    "or = 13"
   ]
  },
  {
   "cell_type": "code",
   "execution_count": 104,
   "id": "8de4e202",
   "metadata": {
    "ExecuteTime": {
     "end_time": "2021-05-24T17:58:08.774485Z",
     "start_time": "2021-05-24T17:58:08.767006Z"
    }
   },
   "outputs": [
    {
     "data": {
      "text/plain": [
       "['False',\n",
       " 'None',\n",
       " 'True',\n",
       " 'and',\n",
       " 'as',\n",
       " 'assert',\n",
       " 'async',\n",
       " 'await',\n",
       " 'break',\n",
       " 'class',\n",
       " 'continue',\n",
       " 'def',\n",
       " 'del',\n",
       " 'elif',\n",
       " 'else',\n",
       " 'except',\n",
       " 'finally',\n",
       " 'for',\n",
       " 'from',\n",
       " 'global',\n",
       " 'if',\n",
       " 'import',\n",
       " 'in',\n",
       " 'is',\n",
       " 'lambda',\n",
       " 'nonlocal',\n",
       " 'not',\n",
       " 'or',\n",
       " 'pass',\n",
       " 'raise',\n",
       " 'return',\n",
       " 'try',\n",
       " 'while',\n",
       " 'with',\n",
       " 'yield']"
      ]
     },
     "execution_count": 104,
     "metadata": {},
     "output_type": "execute_result"
    }
   ],
   "source": [
    "import keyword\n",
    "\n",
    "keyword.kwlist"
   ]
  },
  {
   "cell_type": "markdown",
   "id": "1e009d49",
   "metadata": {},
   "source": [
    "<a id=\"2.3\"></a>\n",
    "<h2 style=\"background-color:#084d6e;font-family:newtimeroman;font-size:200%;color:white;text-align:center;border-radius: 15px 50px\">Tipo e Referência</h2> "
   ]
  },
  {
   "cell_type": "markdown",
   "id": "53c04ba1",
   "metadata": {},
   "source": [
    "<a id=\"2.3.1\"></a>\n",
    "<h3 style=\"background-color:#084d6e;font-family:newtimeroman;font-size:150%;color:white;text-align:center;border-radius: 15px 50px\">Tipo</h3>\n",
    "\n",
    "As variáveis em Python podem assumir diferentes tipos de dados, os mais comuns são:<br>\n",
    "* **Inteiro:** int<br>\n",
    "* **Ponto Flutuante:** float<br>\n",
    "* **Booleano:** bool<br>\n",
    "* **String:** str<br>\n",
    "\n",
    "Uma das maneiras que podemos utilizar para verificar o tipo é utilizando a função *built-in* \n",
    "```python\n",
    "type()\n",
    "```\n",
    "\n",
    "*Obs:* uma lista com todas as funções built-in disponíveis pode ser verificada neste link: \n",
    "\n",
    "https://docs.python.org/pt-br/3.6/library/functions.html#func-memoryview"
   ]
  },
  {
   "cell_type": "code",
   "execution_count": 75,
   "id": "75bda79d",
   "metadata": {
    "ExecuteTime": {
     "end_time": "2021-05-24T17:30:49.584128Z",
     "start_time": "2021-05-24T17:30:49.574234Z"
    }
   },
   "outputs": [
    {
     "data": {
      "text/plain": [
       "str"
      ]
     },
     "execution_count": 75,
     "metadata": {},
     "output_type": "execute_result"
    }
   ],
   "source": [
    "type(n_1)"
   ]
  },
  {
   "cell_type": "code",
   "execution_count": 76,
   "id": "874eb3f5",
   "metadata": {
    "ExecuteTime": {
     "end_time": "2021-05-24T17:31:00.042684Z",
     "start_time": "2021-05-24T17:31:00.036218Z"
    }
   },
   "outputs": [
    {
     "data": {
      "text/plain": [
       "int"
      ]
     },
     "execution_count": 76,
     "metadata": {},
     "output_type": "execute_result"
    }
   ],
   "source": [
    "type(i_1)"
   ]
  },
  {
   "cell_type": "code",
   "execution_count": 77,
   "id": "94bceff2",
   "metadata": {
    "ExecuteTime": {
     "end_time": "2021-05-24T17:31:01.072054Z",
     "start_time": "2021-05-24T17:31:01.064283Z"
    }
   },
   "outputs": [
    {
     "data": {
      "text/plain": [
       "float"
      ]
     },
     "execution_count": 77,
     "metadata": {},
     "output_type": "execute_result"
    }
   ],
   "source": [
    "type(p_1)"
   ]
  },
  {
   "cell_type": "code",
   "execution_count": 78,
   "id": "7ad5fa3c",
   "metadata": {
    "ExecuteTime": {
     "end_time": "2021-05-24T17:31:10.879123Z",
     "start_time": "2021-05-24T17:31:10.867186Z"
    }
   },
   "outputs": [
    {
     "data": {
      "text/plain": [
       "bool"
      ]
     },
     "execution_count": 78,
     "metadata": {},
     "output_type": "execute_result"
    }
   ],
   "source": [
    "type(e_1)"
   ]
  },
  {
   "cell_type": "markdown",
   "id": "2ea8dc30",
   "metadata": {},
   "source": [
    "<a id=\"2.3.2\"></a>\n",
    "<h3 style=\"background-color:#084d6e;font-family:newtimeroman;font-size:150%;color:white;text-align:center;border-radius: 15px 50px\">Referência</h3>\n",
    "\n",
    "É o endereço de memória onde a atribuição de uma variável foi feita.\n",
    "\n",
    "Para verificar o endereço pode-se a função *built-in* \n",
    "```python\n",
    "id()\n",
    "```"
   ]
  },
  {
   "cell_type": "code",
   "execution_count": 79,
   "id": "f01c56f5",
   "metadata": {
    "ExecuteTime": {
     "end_time": "2021-05-24T17:31:29.132770Z",
     "start_time": "2021-05-24T17:31:29.124880Z"
    }
   },
   "outputs": [
    {
     "data": {
      "text/plain": [
       "140120093682736"
      ]
     },
     "execution_count": 79,
     "metadata": {},
     "output_type": "execute_result"
    }
   ],
   "source": [
    "id(n_1)"
   ]
  },
  {
   "cell_type": "code",
   "execution_count": 80,
   "id": "29977b50",
   "metadata": {
    "ExecuteTime": {
     "end_time": "2021-05-24T17:31:38.188279Z",
     "start_time": "2021-05-24T17:31:38.176185Z"
    }
   },
   "outputs": [
    {
     "data": {
      "text/plain": [
       "93979485675872"
      ]
     },
     "execution_count": 80,
     "metadata": {},
     "output_type": "execute_result"
    }
   ],
   "source": [
    "id(i_1)"
   ]
  },
  {
   "cell_type": "code",
   "execution_count": 108,
   "id": "69ea548e",
   "metadata": {
    "ExecuteTime": {
     "end_time": "2021-05-24T18:00:21.440600Z",
     "start_time": "2021-05-24T18:00:21.436857Z"
    }
   },
   "outputs": [],
   "source": [
    "n_1 = e_1"
   ]
  },
  {
   "cell_type": "code",
   "execution_count": 109,
   "id": "58956c4c",
   "metadata": {
    "ExecuteTime": {
     "end_time": "2021-05-24T18:00:27.782099Z",
     "start_time": "2021-05-24T18:00:27.772760Z"
    }
   },
   "outputs": [
    {
     "data": {
      "text/plain": [
       "93979485509984"
      ]
     },
     "execution_count": 109,
     "metadata": {},
     "output_type": "execute_result"
    }
   ],
   "source": [
    "id(n_1)"
   ]
  },
  {
   "cell_type": "code",
   "execution_count": 110,
   "id": "d5cfc83e",
   "metadata": {
    "ExecuteTime": {
     "end_time": "2021-05-24T18:00:44.075837Z",
     "start_time": "2021-05-24T18:00:44.068114Z"
    }
   },
   "outputs": [
    {
     "data": {
      "text/plain": [
       "93979485509984"
      ]
     },
     "execution_count": 110,
     "metadata": {},
     "output_type": "execute_result"
    }
   ],
   "source": [
    "id(e_1)"
   ]
  },
  {
   "cell_type": "code",
   "execution_count": 113,
   "id": "1f28883a",
   "metadata": {
    "ExecuteTime": {
     "end_time": "2021-05-24T18:08:26.383743Z",
     "start_time": "2021-05-24T18:08:26.371031Z"
    }
   },
   "outputs": [
    {
     "name": "stdout",
     "output_type": "stream",
     "text": [
      "=> A variável n: True é do tipo <class 'bool'> e está armazenada no endereço de memória:\n",
      " 93979485509984\n",
      "=> A variável i: 34 é do tipo <class 'int'> e está armazenada no endereço de memória:\n",
      " 93979485675872\n",
      "=> A variável p: 78.0 é do tipo <class 'float'> e está armazenada no endereço de memória:\n",
      " 140120162094128\n",
      "=> A variável a: 1.71 é do tipo <class 'float'> e está armazenada no endereço de memória:\n",
      " 140120162093904\n",
      "=> A variável e: True é do tipo <class 'bool'> e está armazenada no endereço: de memória\n",
      " 93979485509984\n"
     ]
    }
   ],
   "source": [
    "print(\"=> A variável n:\",n_1 , \"é do tipo\", type(n_1), \"e está armazenada no endereço de memória:\\n\", id(n_1))\n",
    "print(\"=> A variável i:\",i_1 , \"é do tipo\", type(i_1), \"e está armazenada no endereço de memória:\\n\", id(i_1))\n",
    "print(\"=> A variável p:\",p_1 , \"é do tipo\", type(p_1), \"e está armazenada no endereço de memória:\\n\", id(p_1))\n",
    "print(\"=> A variável a:\",a_1 , \"é do tipo\", type(a_1), \"e está armazenada no endereço de memória:\\n\", id(a_1))\n",
    "print(\"=> A variável e:\",e_1 , \"é do tipo\", type(e_1), \"e está armazenada no endereço: de memória\\n\", id(e_1))"
   ]
  },
  {
   "cell_type": "markdown",
   "id": "bd319f6c",
   "metadata": {},
   "source": [
    "<a id=\"3\"></a>\n",
    "<h1 style=\"background-color:#084d6e;font-family:newtimeroman;font-size:300%;color:white;text-align:center;border-radius: 15px 50px\">Operações Básicas</h1>"
   ]
  },
  {
   "cell_type": "markdown",
   "id": "06ddfc81",
   "metadata": {},
   "source": [
    "<a id=\"3.1\"></a>\n",
    "<h2 style=\"background-color:#084d6e;font-family:newtimeroman;font-size:200%;color:white;text-align:center;border-radius: 15px 50px\">Números</h2>\n",
    "\n",
    "Operador|Significado|Exemplo\n",
    ":------:|:---------:|:-----:\n",
    "+ | Soma | $$3+5=8$$ \n",
    "- | Subtração | $$3-1=2$$ \n",
    "* | Multiplicação | $$3*5=15$$ \n",
    "/ | Divisão | $$20/5=4$$ \n",
    "** | Potência | $$3**2=9$$ \n",
    "% | Módulo | $$21\\%2=1$$ \n",
    "\n",
    "OBS: $21 \\equiv 1 (\\mod 2)$"
   ]
  },
  {
   "cell_type": "code",
   "execution_count": 34,
   "id": "feb7e617",
   "metadata": {
    "ExecuteTime": {
     "end_time": "2021-05-24T15:40:47.357294Z",
     "start_time": "2021-05-24T15:40:47.344801Z"
    }
   },
   "outputs": [
    {
     "data": {
      "text/plain": [
       "8"
      ]
     },
     "execution_count": 34,
     "metadata": {},
     "output_type": "execute_result"
    }
   ],
   "source": [
    "3+5"
   ]
  },
  {
   "cell_type": "code",
   "execution_count": 36,
   "id": "7f0d5341",
   "metadata": {
    "ExecuteTime": {
     "end_time": "2021-05-24T15:41:01.088442Z",
     "start_time": "2021-05-24T15:41:01.078298Z"
    }
   },
   "outputs": [
    {
     "data": {
      "text/plain": [
       "2"
      ]
     },
     "execution_count": 36,
     "metadata": {},
     "output_type": "execute_result"
    }
   ],
   "source": [
    "3-1"
   ]
  },
  {
   "cell_type": "code",
   "execution_count": 37,
   "id": "4ead783a",
   "metadata": {
    "ExecuteTime": {
     "end_time": "2021-05-24T15:41:05.857087Z",
     "start_time": "2021-05-24T15:41:05.853255Z"
    }
   },
   "outputs": [
    {
     "data": {
      "text/plain": [
       "15"
      ]
     },
     "execution_count": 37,
     "metadata": {},
     "output_type": "execute_result"
    }
   ],
   "source": [
    "3*5"
   ]
  },
  {
   "cell_type": "code",
   "execution_count": 38,
   "id": "147eabf9",
   "metadata": {
    "ExecuteTime": {
     "end_time": "2021-05-24T15:41:12.683168Z",
     "start_time": "2021-05-24T15:41:12.675453Z"
    }
   },
   "outputs": [
    {
     "data": {
      "text/plain": [
       "5.0"
      ]
     },
     "execution_count": 38,
     "metadata": {},
     "output_type": "execute_result"
    }
   ],
   "source": [
    "20/4"
   ]
  },
  {
   "cell_type": "code",
   "execution_count": 39,
   "id": "9410938b",
   "metadata": {
    "ExecuteTime": {
     "end_time": "2021-05-24T15:41:22.632276Z",
     "start_time": "2021-05-24T15:41:22.628583Z"
    }
   },
   "outputs": [
    {
     "data": {
      "text/plain": [
       "9"
      ]
     },
     "execution_count": 39,
     "metadata": {},
     "output_type": "execute_result"
    }
   ],
   "source": [
    "3**2"
   ]
  },
  {
   "cell_type": "code",
   "execution_count": 40,
   "id": "9494ff07",
   "metadata": {
    "ExecuteTime": {
     "end_time": "2021-05-24T15:41:30.533870Z",
     "start_time": "2021-05-24T15:41:30.524333Z"
    }
   },
   "outputs": [
    {
     "data": {
      "text/plain": [
       "1"
      ]
     },
     "execution_count": 40,
     "metadata": {},
     "output_type": "execute_result"
    }
   ],
   "source": [
    "21%2"
   ]
  },
  {
   "cell_type": "code",
   "execution_count": 98,
   "id": "211a7326",
   "metadata": {
    "ExecuteTime": {
     "end_time": "2021-05-24T17:45:07.003646Z",
     "start_time": "2021-05-24T17:45:06.994970Z"
    }
   },
   "outputs": [
    {
     "data": {
      "text/plain": [
       "-27"
      ]
     },
     "execution_count": 98,
     "metadata": {},
     "output_type": "execute_result"
    }
   ],
   "source": [
    "pow(-3,3)"
   ]
  },
  {
   "cell_type": "code",
   "execution_count": 99,
   "id": "8733be5d",
   "metadata": {
    "ExecuteTime": {
     "end_time": "2021-05-24T17:45:20.462817Z",
     "start_time": "2021-05-24T17:45:20.451014Z"
    }
   },
   "outputs": [
    {
     "data": {
      "text/plain": [
       "27"
      ]
     },
     "execution_count": 99,
     "metadata": {},
     "output_type": "execute_result"
    }
   ],
   "source": [
    "abs(pow(-3,3))"
   ]
  },
  {
   "cell_type": "code",
   "execution_count": 83,
   "id": "76a325ba",
   "metadata": {
    "ExecuteTime": {
     "end_time": "2021-05-24T17:33:16.674610Z",
     "start_time": "2021-05-24T17:33:16.666184Z"
    }
   },
   "outputs": [
    {
     "name": "stdout",
     "output_type": "stream",
     "text": [
      "26.674874320303687\n"
     ]
    }
   ],
   "source": [
    "'''\n",
    "calculando IMC\n",
    "'''\n",
    "\n",
    "imc = p_1/(a_1**2)\n",
    "print(imc)"
   ]
  },
  {
   "cell_type": "code",
   "execution_count": 86,
   "id": "f92b52a7",
   "metadata": {
    "ExecuteTime": {
     "end_time": "2021-05-24T17:34:06.985418Z",
     "start_time": "2021-05-24T17:34:06.977093Z"
    }
   },
   "outputs": [
    {
     "data": {
      "text/plain": [
       "26.67"
      ]
     },
     "execution_count": 86,
     "metadata": {},
     "output_type": "execute_result"
    }
   ],
   "source": [
    "round(imc,2)"
   ]
  },
  {
   "cell_type": "code",
   "execution_count": 111,
   "id": "1e89e4fb",
   "metadata": {
    "ExecuteTime": {
     "end_time": "2021-05-24T18:02:14.954447Z",
     "start_time": "2021-05-24T18:02:14.943701Z"
    }
   },
   "outputs": [
    {
     "data": {
      "text/plain": [
       "26"
      ]
     },
     "execution_count": 111,
     "metadata": {},
     "output_type": "execute_result"
    }
   ],
   "source": [
    "int(imc)"
   ]
  },
  {
   "cell_type": "markdown",
   "id": "1d1f1538",
   "metadata": {},
   "source": [
    "<a id=\"3.2\"></a>\n",
    "<h2 style=\"background-color:#084d6e;font-family:newtimeroman;font-size:200%;color:white;text-align:center;border-radius: 15px 50px\">Strings</h2>\n",
    "\n",
    "Operador|Significado|Exemplo\n",
    ":------:|:---------:|:-----:\n",
    "+ | Concatenação | n_1+n_2 \n",
    "* | Replicação | 3*n_1 \n"
   ]
  },
  {
   "cell_type": "code",
   "execution_count": 64,
   "id": "6c93adf8",
   "metadata": {
    "ExecuteTime": {
     "end_time": "2021-05-24T15:53:04.590001Z",
     "start_time": "2021-05-24T15:53:04.577629Z"
    }
   },
   "outputs": [
    {
     "data": {
      "text/plain": [
       "'TomJerry'"
      ]
     },
     "execution_count": 64,
     "metadata": {},
     "output_type": "execute_result"
    }
   ],
   "source": [
    "n_2 = \"Jerry\"\n",
    "\n",
    "n_1+n_2"
   ]
  },
  {
   "cell_type": "code",
   "execution_count": 66,
   "id": "12a80bf3",
   "metadata": {
    "ExecuteTime": {
     "end_time": "2021-05-24T15:53:23.001282Z",
     "start_time": "2021-05-24T15:53:22.996255Z"
    }
   },
   "outputs": [
    {
     "data": {
      "text/plain": [
       "'JerryTom'"
      ]
     },
     "execution_count": 66,
     "metadata": {},
     "output_type": "execute_result"
    }
   ],
   "source": [
    "n_2+n_1"
   ]
  },
  {
   "cell_type": "code",
   "execution_count": 68,
   "id": "0f38521f",
   "metadata": {
    "ExecuteTime": {
     "end_time": "2021-05-24T15:54:02.235738Z",
     "start_time": "2021-05-24T15:54:02.226371Z"
    }
   },
   "outputs": [
    {
     "data": {
      "text/plain": [
       "'JerryJr'"
      ]
     },
     "execution_count": 68,
     "metadata": {},
     "output_type": "execute_result"
    }
   ],
   "source": [
    "n_3 = n_2 + \"Jr\"\n",
    "n_3"
   ]
  },
  {
   "cell_type": "markdown",
   "id": "645acfe1",
   "metadata": {},
   "source": [
    "<a id=\"4\"></a>\n",
    "<h1 style=\"background-color:#084d6e;font-family:newtimeroman;font-size:300%;color:white;text-align:center;border-radius: 15px 50px\">Sequências</h1>"
   ]
  },
  {
   "cell_type": "markdown",
   "id": "49a6cbf4",
   "metadata": {},
   "source": [
    "<a id=\"4.1\"></a>\n",
    "<h2 style=\"background-color:#084d6e;font-family:newtimeroman;font-size:200%;color:white;text-align:center;border-radius: 15px 50px\">Tipos</h2>\n",
    "\n",
    "<a id=\"2.3.2\"></a>\n",
    "<h3 style=\"background-color:#084d6e;font-family:newtimeroman;font-size:150%;color:white;text-align:center;border-radius: 15px 50px\">Tupla</h3>\n",
    "\n",
    "* Sequência ordenada de elementos;\n",
    "* Os elementos não precisam ser do mesmo tipo, pode-se utilizar até outra sequência;\n",
    "* Os elementos **NÃO** podem ser alterados;\n",
    "* É definida utilizando-se parenteses."
   ]
  },
  {
   "cell_type": "code",
   "execution_count": 123,
   "id": "67a7bc39",
   "metadata": {
    "ExecuteTime": {
     "end_time": "2021-05-24T18:18:13.420774Z",
     "start_time": "2021-05-24T18:18:13.410996Z"
    }
   },
   "outputs": [
    {
     "data": {
      "text/plain": [
       "tuple"
      ]
     },
     "execution_count": 123,
     "metadata": {},
     "output_type": "execute_result"
    }
   ],
   "source": [
    "tp = ('xyz', 3.14, (2,3,5), 33)\n",
    "type(tp)"
   ]
  },
  {
   "cell_type": "code",
   "execution_count": 135,
   "id": "a2bb4ad4",
   "metadata": {
    "ExecuteTime": {
     "end_time": "2021-05-24T18:22:44.962777Z",
     "start_time": "2021-05-24T18:22:44.952772Z"
    }
   },
   "outputs": [
    {
     "name": "stdout",
     "output_type": "stream",
     "text": [
      "33\n",
      "33\n",
      "xyz\n"
     ]
    }
   ],
   "source": [
    "print(tp[3])\n",
    "print(tp[-1])\n",
    "print(tp[0])"
   ]
  },
  {
   "cell_type": "code",
   "execution_count": 134,
   "id": "37a6c5d1",
   "metadata": {
    "ExecuteTime": {
     "end_time": "2021-05-24T18:22:16.879418Z",
     "start_time": "2021-05-24T18:22:16.876036Z"
    }
   },
   "outputs": [
    {
     "data": {
      "text/plain": [
       "'xyz'"
      ]
     },
     "execution_count": 134,
     "metadata": {},
     "output_type": "execute_result"
    }
   ],
   "source": [
    "tp[0]"
   ]
  },
  {
   "cell_type": "code",
   "execution_count": 139,
   "id": "8f677390",
   "metadata": {
    "ExecuteTime": {
     "end_time": "2021-05-24T18:25:28.217187Z",
     "start_time": "2021-05-24T18:25:28.205467Z"
    }
   },
   "outputs": [
    {
     "ename": "TypeError",
     "evalue": "'tuple' object does not support item assignment",
     "output_type": "error",
     "traceback": [
      "\u001b[0;31m---------------------------------------------------------------------------\u001b[0m",
      "\u001b[0;31mTypeError\u001b[0m                                 Traceback (most recent call last)",
      "\u001b[0;32m<ipython-input-139-4275bd48d741>\u001b[0m in \u001b[0;36m<module>\u001b[0;34m\u001b[0m\n\u001b[0;32m----> 1\u001b[0;31m \u001b[0mtp\u001b[0m\u001b[0;34m[\u001b[0m\u001b[0;36m0\u001b[0m\u001b[0;34m]\u001b[0m \u001b[0;34m=\u001b[0m \u001b[0;34m'abc'\u001b[0m\u001b[0;34m\u001b[0m\u001b[0;34m\u001b[0m\u001b[0m\n\u001b[0m",
      "\u001b[0;31mTypeError\u001b[0m: 'tuple' object does not support item assignment"
     ]
    }
   ],
   "source": [
    "tp[0] = 'abc'"
   ]
  },
  {
   "cell_type": "markdown",
   "id": "0b0c5506",
   "metadata": {},
   "source": [
    "<a id=\"4.1.2\"></a>\n",
    "<h3 style=\"background-color:#084d6e;font-family:newtimeroman;font-size:150%;color:white;text-align:center;border-radius: 15px 50px\">Lista</h3>\n",
    "\n",
    "* Sequência ordenada de elementos;\n",
    "* Os elementos não precisam ser do mesmo tipo, pode-se utilizar até outra sequência;\n",
    "* Os elementos **PODEM** ser alterados;\n",
    "* É definida utilizando-se colcheteses."
   ]
  },
  {
   "cell_type": "code",
   "execution_count": 137,
   "id": "005cfca3",
   "metadata": {
    "ExecuteTime": {
     "end_time": "2021-05-24T18:23:35.933870Z",
     "start_time": "2021-05-24T18:23:35.929671Z"
    }
   },
   "outputs": [],
   "source": [
    "ls = ['xyz', 3.14, (2,3,5), 33]"
   ]
  },
  {
   "cell_type": "code",
   "execution_count": 117,
   "id": "9fba7da0",
   "metadata": {
    "ExecuteTime": {
     "end_time": "2021-05-24T18:12:31.521155Z",
     "start_time": "2021-05-24T18:12:31.515037Z"
    }
   },
   "outputs": [
    {
     "data": {
      "text/plain": [
       "list"
      ]
     },
     "execution_count": 117,
     "metadata": {},
     "output_type": "execute_result"
    }
   ],
   "source": [
    "type(ls)"
   ]
  },
  {
   "cell_type": "code",
   "execution_count": 136,
   "id": "621ed296",
   "metadata": {
    "ExecuteTime": {
     "end_time": "2021-05-24T18:23:31.188348Z",
     "start_time": "2021-05-24T18:23:31.178200Z"
    }
   },
   "outputs": [
    {
     "name": "stdout",
     "output_type": "stream",
     "text": [
      "33\n",
      "33\n",
      "xyz\n"
     ]
    }
   ],
   "source": [
    "print(ls[3])\n",
    "print(ls[-1])\n",
    "print(ls[0])"
   ]
  },
  {
   "cell_type": "code",
   "execution_count": 141,
   "id": "220fe637",
   "metadata": {
    "ExecuteTime": {
     "end_time": "2021-05-24T18:25:50.257470Z",
     "start_time": "2021-05-24T18:25:50.249458Z"
    }
   },
   "outputs": [
    {
     "name": "stdout",
     "output_type": "stream",
     "text": [
      "['abc', 3.14, (2, 3, 5), 33]\n"
     ]
    }
   ],
   "source": [
    "ls[0] = 'abc'\n",
    "print(ls)"
   ]
  },
  {
   "cell_type": "code",
   "execution_count": 163,
   "id": "0ff2dd37",
   "metadata": {
    "ExecuteTime": {
     "end_time": "2021-05-24T18:42:27.782777Z",
     "start_time": "2021-05-24T18:42:27.775924Z"
    }
   },
   "outputs": [
    {
     "name": "stdout",
     "output_type": "stream",
     "text": [
      "[]\n"
     ]
    }
   ],
   "source": [
    "new_ls = []\n",
    "print(new_ls)"
   ]
  },
  {
   "cell_type": "code",
   "execution_count": 164,
   "id": "564cd7fb",
   "metadata": {
    "ExecuteTime": {
     "end_time": "2021-05-24T18:42:28.491201Z",
     "start_time": "2021-05-24T18:42:28.481508Z"
    }
   },
   "outputs": [
    {
     "name": "stdout",
     "output_type": "stream",
     "text": [
      "[1]\n"
     ]
    }
   ],
   "source": [
    "new_ls.append(1)\n",
    "print(new_ls)"
   ]
  },
  {
   "cell_type": "code",
   "execution_count": 165,
   "id": "9f3fe61f",
   "metadata": {
    "ExecuteTime": {
     "end_time": "2021-05-24T18:42:29.390894Z",
     "start_time": "2021-05-24T18:42:29.383187Z"
    }
   },
   "outputs": [
    {
     "name": "stdout",
     "output_type": "stream",
     "text": [
      "[1, 'A']\n"
     ]
    }
   ],
   "source": [
    "new_ls.append('A')\n",
    "print(new_ls)"
   ]
  },
  {
   "cell_type": "code",
   "execution_count": 166,
   "id": "9c11ca4f",
   "metadata": {
    "ExecuteTime": {
     "end_time": "2021-05-24T18:42:29.922966Z",
     "start_time": "2021-05-24T18:42:29.918489Z"
    }
   },
   "outputs": [
    {
     "name": "stdout",
     "output_type": "stream",
     "text": [
      "['A', 'B', 1, 'A']\n"
     ]
    }
   ],
   "source": [
    "new_ls.insert(0,'A')\n",
    "new_ls.insert(1,'B')\n",
    "print(new_ls)"
   ]
  },
  {
   "cell_type": "code",
   "execution_count": 147,
   "id": "87c67683",
   "metadata": {
    "ExecuteTime": {
     "end_time": "2021-05-24T18:30:57.239983Z",
     "start_time": "2021-05-24T18:30:57.228070Z"
    }
   },
   "outputs": [
    {
     "name": "stdout",
     "output_type": "stream",
     "text": [
      "['A', 1]\n"
     ]
    }
   ],
   "source": [
    "del new_ls[1]\n",
    "del new_ls[-1]\n",
    "print(new_ls)"
   ]
  },
  {
   "cell_type": "markdown",
   "id": "65decb4e",
   "metadata": {},
   "source": [
    "<a id=\"4.1.3\"></a>\n",
    "<h3 style=\"background-color:#084d6e;font-family:newtimeroman;font-size:150%;color:white;text-align:center;border-radius: 15px 50px\">String: uma \"tupla\" específica</h3>\n",
    "\n"
   ]
  },
  {
   "cell_type": "code",
   "execution_count": 168,
   "id": "9a0454a6",
   "metadata": {
    "ExecuteTime": {
     "end_time": "2021-05-24T18:43:22.197829Z",
     "start_time": "2021-05-24T18:43:22.189310Z"
    }
   },
   "outputs": [
    {
     "name": "stdout",
     "output_type": "stream",
     "text": [
      "A\n",
      "S\n"
     ]
    }
   ],
   "source": [
    "st = \"A String é conceitualmente similar a uma tupla\"\n",
    "\n",
    "print(st[0])\n",
    "print(st[2])"
   ]
  },
  {
   "cell_type": "code",
   "execution_count": 169,
   "id": "4491ff5a",
   "metadata": {
    "ExecuteTime": {
     "end_time": "2021-05-24T18:43:35.332461Z",
     "start_time": "2021-05-24T18:43:35.319708Z"
    }
   },
   "outputs": [
    {
     "ename": "TypeError",
     "evalue": "'str' object does not support item assignment",
     "output_type": "error",
     "traceback": [
      "\u001b[0;31m---------------------------------------------------------------------------\u001b[0m",
      "\u001b[0;31mTypeError\u001b[0m                                 Traceback (most recent call last)",
      "\u001b[0;32m<ipython-input-169-985af798cb44>\u001b[0m in \u001b[0;36m<module>\u001b[0;34m\u001b[0m\n\u001b[0;32m----> 1\u001b[0;31m \u001b[0mst\u001b[0m\u001b[0;34m[\u001b[0m\u001b[0;36m0\u001b[0m\u001b[0;34m]\u001b[0m \u001b[0;34m=\u001b[0m \u001b[0;34m'a'\u001b[0m\u001b[0;34m\u001b[0m\u001b[0;34m\u001b[0m\u001b[0m\n\u001b[0m",
      "\u001b[0;31mTypeError\u001b[0m: 'str' object does not support item assignment"
     ]
    }
   ],
   "source": [
    "st[0] = 'a'"
   ]
  },
  {
   "cell_type": "code",
   "execution_count": 170,
   "id": "5eaeaa7d",
   "metadata": {
    "ExecuteTime": {
     "end_time": "2021-05-24T18:43:41.096533Z",
     "start_time": "2021-05-24T18:43:41.088300Z"
    }
   },
   "outputs": [
    {
     "name": "stdout",
     "output_type": "stream",
     "text": [
      "A string tem tamanho: 46\n"
     ]
    }
   ],
   "source": [
    "print(\"A string tem tamanho:\", len(st))"
   ]
  },
  {
   "cell_type": "markdown",
   "id": "d5bccb69",
   "metadata": {},
   "source": [
    "<a id=\"4.1\"></a>\n",
    "<h2 style=\"background-color:#084d6e;font-family:newtimeroman;font-size:200%;color:white;text-align:center;border-radius: 15px 50px\">Fatiamento</h2>\n",
    "\n",
    "As sequências pode ser fatiadas, ou seja, pode-se criar um subconjunto da sequência inicial. Este fatiamento é normalmente chamado de *slicing*."
   ]
  },
  {
   "cell_type": "code",
   "execution_count": 171,
   "id": "88576446",
   "metadata": {
    "ExecuteTime": {
     "end_time": "2021-05-24T18:44:03.148967Z",
     "start_time": "2021-05-24T18:44:03.139687Z"
    }
   },
   "outputs": [
    {
     "data": {
      "text/plain": [
       "['abc', 3.14]"
      ]
     },
     "execution_count": 171,
     "metadata": {},
     "output_type": "execute_result"
    }
   ],
   "source": [
    "pr"
   ]
  },
  {
   "cell_type": "code",
   "execution_count": 172,
   "id": "605e6a94",
   "metadata": {
    "ExecuteTime": {
     "end_time": "2021-05-24T18:44:15.630782Z",
     "start_time": "2021-05-24T18:44:15.619787Z"
    }
   },
   "outputs": [
    {
     "data": {
      "text/plain": [
       "('xyz', 3.14)"
      ]
     },
     "execution_count": 172,
     "metadata": {},
     "output_type": "execute_result"
    }
   ],
   "source": [
    "tp[0:2]"
   ]
  },
  {
   "cell_type": "code",
   "execution_count": 174,
   "id": "8280795d",
   "metadata": {
    "ExecuteTime": {
     "end_time": "2021-05-24T18:44:31.231630Z",
     "start_time": "2021-05-24T18:44:31.221254Z"
    }
   },
   "outputs": [
    {
     "data": {
      "text/plain": [
       "'tring é'"
      ]
     },
     "execution_count": 174,
     "metadata": {},
     "output_type": "execute_result"
    }
   ],
   "source": [
    "st[3:10]"
   ]
  }
 ],
 "metadata": {
  "kernelspec": {
   "display_name": "Python 3.8.5 64-bit ('base': conda)",
   "language": "python",
   "name": "python385jvsc74a57bd039e206ad9936e72305e0e8842333c8ef32c1fa0d04fea416f10140e614606cab"
  },
  "language_info": {
   "codemirror_mode": {
    "name": "ipython",
    "version": 3
   },
   "file_extension": ".py",
   "mimetype": "text/x-python",
   "name": "python",
   "nbconvert_exporter": "python",
   "pygments_lexer": "ipython3",
   "version": "3.8.5"
  },
  "nbTranslate": {
   "displayLangs": [
    "*"
   ],
   "hotkey": "alt-t",
   "langInMainMenu": true,
   "sourceLang": "en",
   "targetLang": "br",
   "useGoogleTranslate": true
  },
  "toc": {
   "base_numbering": 1,
   "nav_menu": {},
   "number_sections": true,
   "sideBar": true,
   "skip_h1_title": false,
   "title_cell": "Table of Contents",
   "title_sidebar": "Contents",
   "toc_cell": false,
   "toc_position": {},
   "toc_section_display": true,
   "toc_window_display": false
  }
 },
 "nbformat": 4,
 "nbformat_minor": 5
}
