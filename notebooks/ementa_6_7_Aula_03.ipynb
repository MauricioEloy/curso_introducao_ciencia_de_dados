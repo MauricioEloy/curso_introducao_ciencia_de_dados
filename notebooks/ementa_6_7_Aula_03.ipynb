{
 "cells": [
  {
   "cell_type": "markdown",
   "id": "2f18286b",
   "metadata": {
    "ExecuteTime": {
     "end_time": "2021-05-24T12:12:36.678617Z",
     "start_time": "2021-05-24T12:12:36.668812Z"
    }
   },
   "source": [
    "<p> <img src=\"../imagens/LOGO_2.png\"  align=\"midle\"></p>\n",
    "\n",
    "**Data Science**<br>\n",
    "\n",
    "*profmauricioeloy@gmail.com | mauricioeloy@usp.br<br>*"
   ]
  },
  {
   "cell_type": "markdown",
   "id": "a372b358",
   "metadata": {},
   "source": [
    "**Sumário:**\n",
    "\n",
    "* [1. Objetivos](#1)\n",
    "* [2. Variáveis](#2)\n",
    "    * [2.1 Atribuições](#2.1)\n",
    "    * [2.2 Nomes de Variáveis](#2.2)\n",
    "        * [2.2.1 MAIÚSCULO e minúsculo](#2.2.1)\n",
    "        * [2.2.2 Iniciar com Números](#2.2.2)\n",
    "        * [2.2.3 Palavras Reservadas](#2.2.3)\n",
    "    * [2.3 Tipo e Referência](#2.3)\n",
    "        * [2.3.1 Tipo](#2.3.1)\n",
    "        * [2.3.2 Referência](#2.3.2)\n",
    "* [3. Operações Básicas](#3)\n",
    "    * [3.1 Números](#3.1)\n",
    "    * [3.2 Strings](#3.2)\n",
    "* [4. Sequências](#4)\n",
    "    * [4.1 Tipos](#4.1)\n",
    "        * [4.1.1 Tupla](#4.1.1)\n",
    "        * [4.1.2 Lista](#4.1.2)\n",
    "        * [4.1.3 String: uma \"tupla\" específica](#4.1.3)\n",
    "    * [4.2 Fatiamento](#4.2)\n",
    "    * [4.3 Operações Elementares](#4.3)\n",
    "        * [4.3.1 Concatenação (operador \"+\")](#4.3.1)\n",
    "        * [4.3.2 Operador \"in\" em sequências](#4.3.2)\n",
    "        * [4.3.3 Extras](#4.3.3)\n",
    "        * [4.3.4 Strings](#4.3.4)\n",
    "* [5. Dicionários](#5)\n",
    "* [6. Exercícios](#6)\n",
    "    * [6.1 ](#6.1)\n",
    "    * [6.2 ](#6.2)\n",
    "    * [6.3 ](#6.3)\n"
   ]
  },
  {
   "cell_type": "markdown",
   "id": "863583ec",
   "metadata": {},
   "source": [
    "<a id=\"1\"></a>\n",
    "<h1 style=\"background-color:#084d6e;font-family:newtimeroman;font-size:300%;color:white;text-align:center;border-radius: 15px 50px\">Objetivos</h1>\n",
    "\n",
    "1. Compreender o que são variáveis;\n",
    "2. Entender como ocorre a atribuição de variáveis em Python;\n",
    "3. Verificar os tipos básicos de dados;\n",
    "4. Efetuar operações básicas com números e strings;\n",
    "5. Compreender o que são sequências em Python;\n",
    "6. Efetuar operações com sequências;\n",
    "7. Entender o que são dicionários e como manipulá-los."
   ]
  },
  {
   "cell_type": "markdown",
   "id": "66e88c68",
   "metadata": {},
   "source": [
    "<a id=\"2\"></a>\n",
    "<h1 style=\"background-color:#084d6e;font-family:newtimeroman;font-size:300%;color:white;text-align:center;border-radius: 15px 50px\">Variáveis</h1>\n",
    "\n",
    "**VEJA O EXEMPLO:**\n",
    "\n",
    "*Índice de Massa Corporal* $$IMC=\\dfrac{peso}{altura²}$$\n",
    "\n",
    "IMC|Classificação\n",
    ":------|:---------\n",
    "abaixo de 18,5 | Abaixo do Peso\n",
    "entre 18,6 e 24,9 | Peso ideal\n",
    "entre 25,0 e 29,9 | Sobrepeso\n",
    "entre 30,0 e 34,9 | Obesidade grau I\n",
    "entre 35,0 e 39,9 | Obesidade grau II (severa)\n",
    "acima de 40 | Obesidade grau III (mórbida)"
   ]
  },
  {
   "cell_type": "markdown",
   "id": "d0915ef6",
   "metadata": {},
   "source": [
    "<a id=\"2.1\"></a>\n",
    "<h2 style=\"background-color:#084d6e;font-family:newtimeroman;font-size:200%;color:white;text-align:center;border-radius: 15px 50px\">Atribuições</h2>"
   ]
  },
  {
   "cell_type": "code",
   "execution_count": null,
   "id": "a1c70d0e",
   "metadata": {},
   "outputs": [],
   "source": []
  },
  {
   "cell_type": "markdown",
   "id": "f5e19332",
   "metadata": {},
   "source": [
    "<a id=\"2.2\"></a>\n",
    "<h2 style=\"background-color:#084d6e;font-family:newtimeroman;font-size:200%;color:white;text-align:center;border-radius: 15px 50px\">Nomes de Variáveis</h2> "
   ]
  },
  {
   "cell_type": "markdown",
   "id": "79b68ca1",
   "metadata": {},
   "source": [
    "<a id=\"2.2.1\"></a>\n",
    "<h3 style=\"background-color:#084d6e;font-family:newtimeroman;font-size:150%;color:white;text-align:center;border-radius: 15px 50px\">MAIÚSCULO e minúsculo</h3>\n",
    "\n"
   ]
  },
  {
   "cell_type": "code",
   "execution_count": null,
   "id": "0d288cdb",
   "metadata": {},
   "outputs": [],
   "source": []
  },
  {
   "cell_type": "markdown",
   "id": "6e7f33bb",
   "metadata": {},
   "source": [
    "<a id=\"2.2.2\"></a>\n",
    "<h3 style=\"background-color:#084d6e;font-family:newtimeroman;font-size:150%;color:white;text-align:center;border-radius: 15px 50px\">Iniciar com Números</h3>\n",
    "\n"
   ]
  },
  {
   "cell_type": "code",
   "execution_count": null,
   "id": "80eae61e",
   "metadata": {},
   "outputs": [],
   "source": []
  },
  {
   "cell_type": "markdown",
   "id": "4265c37a",
   "metadata": {},
   "source": [
    "<a id=\"2.2.3\"></a>\n",
    "<h3 style=\"background-color:#084d6e;font-family:newtimeroman;font-size:150%;color:white;text-align:center;border-radius: 15px 50px\">Palavras Reservadas</h3>\n",
    "\n",
    "**Palavras:**\n",
    "\n",
    "\n",
    "* False\n",
    "* await\n",
    "* else\n",
    "* import\n",
    "* pass\n",
    "* None\n",
    "* break\n",
    "* except\n",
    "* in\n",
    "* raise\n",
    "* True\n",
    "* class\n",
    "* finally\n",
    "* is\n",
    "* return\n",
    "* and\n",
    "* continue\n",
    "* for\n",
    "* lambda\n",
    "* try\n",
    "* as\n",
    "* def\n",
    "* from\n",
    "* nonlocal\n",
    "* while\n",
    "* assert\n",
    "* del\n",
    "* global\n",
    "* not\n",
    "* with\n",
    "* async\n",
    "* elif\n",
    "* if\n",
    "* or\n",
    "* yield"
   ]
  },
  {
   "cell_type": "code",
   "execution_count": null,
   "id": "a1353ef7",
   "metadata": {},
   "outputs": [],
   "source": []
  },
  {
   "cell_type": "markdown",
   "id": "1e009d49",
   "metadata": {},
   "source": [
    "<a id=\"2.3\"></a>\n",
    "<h2 style=\"background-color:#084d6e;font-family:newtimeroman;font-size:200%;color:white;text-align:center;border-radius: 15px 50px\">Tipo e Referência</h2> "
   ]
  },
  {
   "cell_type": "markdown",
   "id": "53c04ba1",
   "metadata": {},
   "source": [
    "<a id=\"2.3.1\"></a>\n",
    "<h3 style=\"background-color:#084d6e;font-family:newtimeroman;font-size:150%;color:white;text-align:center;border-radius: 15px 50px\">Tipo</h3>\n",
    "\n",
    "As variáveis em Python podem assumir diferentes tipos de dados, os mais comuns são:<br>\n",
    "* **Inteiro:** int<br>\n",
    "* **Ponto Flutuante:** float<br>\n",
    "* **Booleano:** bool<br>\n",
    "* **String:** str<br>\n",
    "\n",
    "Uma das maneiras que podemos utilizar para verificar o tipo é utilizando a função *built-in* \n",
    "```python\n",
    "type()\n",
    "```\n",
    "\n",
    "*Obs:* uma lista com todas as funções built-in disponíveis pode ser verificada neste link: \n",
    "\n",
    "https://docs.python.org/pt-br/3.6/library/functions.html#func-memoryview"
   ]
  },
  {
   "cell_type": "code",
   "execution_count": null,
   "id": "4ca4d733",
   "metadata": {},
   "outputs": [],
   "source": []
  },
  {
   "cell_type": "markdown",
   "id": "2ea8dc30",
   "metadata": {},
   "source": [
    "<a id=\"2.3.2\"></a>\n",
    "<h3 style=\"background-color:#084d6e;font-family:newtimeroman;font-size:150%;color:white;text-align:center;border-radius: 15px 50px\">Referência</h3>\n",
    "\n",
    "É o endereço de memória onde a atribuição de uma variável foi feita.\n",
    "\n",
    "Para verificar o endereço pode-se a função *built-in* \n",
    "```python\n",
    "id()\n",
    "```"
   ]
  },
  {
   "cell_type": "code",
   "execution_count": null,
   "id": "ef634543",
   "metadata": {},
   "outputs": [],
   "source": []
  },
  {
   "cell_type": "markdown",
   "id": "bd319f6c",
   "metadata": {},
   "source": [
    "<a id=\"3\"></a>\n",
    "<h1 style=\"background-color:#084d6e;font-family:newtimeroman;font-size:300%;color:white;text-align:center;border-radius: 15px 50px\">Operações Básicas</h1>"
   ]
  },
  {
   "cell_type": "markdown",
   "id": "06ddfc81",
   "metadata": {},
   "source": [
    "<a id=\"3.1\"></a>\n",
    "<h2 style=\"background-color:#084d6e;font-family:newtimeroman;font-size:200%;color:white;text-align:center;border-radius: 15px 50px\">Números</h2>\n",
    "\n",
    "Operador|Significado|Exemplo\n",
    ":------:|:---------:|:-----:\n",
    "+ | Soma | $$3+5=8$$ \n",
    "- | Subtração | $$3-1=2$$ \n",
    "* | Multiplicação | $$3*5=15$$ \n",
    "/ | Divisão | $$20/5=4$$ \n",
    "** | Potência | $$3**2=9$$ \n",
    "% | Módulo | $$21\\%2=1$$ \n",
    "\n",
    "OBS: $21 \\equiv 1 (\\mod 2)$"
   ]
  },
  {
   "cell_type": "code",
   "execution_count": null,
   "id": "a0559efe",
   "metadata": {},
   "outputs": [],
   "source": []
  },
  {
   "cell_type": "markdown",
   "id": "1d1f1538",
   "metadata": {},
   "source": [
    "<a id=\"3.2\"></a>\n",
    "<h2 style=\"background-color:#084d6e;font-family:newtimeroman;font-size:200%;color:white;text-align:center;border-radius: 15px 50px\">Strings</h2>\n",
    "\n",
    "Operador|Significado|Exemplo\n",
    ":------:|:---------:|:-----:\n",
    "+ | Concatenação | n_1+n_2 \n",
    "* | Replicação | 3*n_1 \n"
   ]
  },
  {
   "cell_type": "code",
   "execution_count": null,
   "id": "6c93adf8",
   "metadata": {
    "ExecuteTime": {
     "end_time": "2021-05-24T20:27:11.198081Z",
     "start_time": "2021-05-24T20:27:11.190743Z"
    }
   },
   "outputs": [],
   "source": []
  },
  {
   "cell_type": "markdown",
   "id": "645acfe1",
   "metadata": {},
   "source": [
    "<a id=\"4\"></a>\n",
    "<h1 style=\"background-color:#084d6e;font-family:newtimeroman;font-size:300%;color:white;text-align:center;border-radius: 15px 50px\">Sequências</h1>"
   ]
  },
  {
   "cell_type": "markdown",
   "id": "49a6cbf4",
   "metadata": {},
   "source": [
    "<a id=\"4.1\"></a>\n",
    "<h2 style=\"background-color:#084d6e;font-family:newtimeroman;font-size:200%;color:white;text-align:center;border-radius: 15px 50px\">Tipos</h2>\n",
    "\n",
    "<a id=\"2.3.2\"></a>\n",
    "<h3 style=\"background-color:#084d6e;font-family:newtimeroman;font-size:150%;color:white;text-align:center;border-radius: 15px 50px\">Tupla</h3>\n",
    "\n",
    "* Sequência ordenada de elementos;\n",
    "* Os elementos não precisam ser do mesmo tipo, pode-se utilizar até outra sequência;\n",
    "* Os elementos **NÃO** podem ser alterados;\n",
    "* É definida utilizando-se parenteses."
   ]
  },
  {
   "cell_type": "code",
   "execution_count": null,
   "id": "67a7bc39",
   "metadata": {
    "ExecuteTime": {
     "end_time": "2021-05-24T20:27:14.501853Z",
     "start_time": "2021-05-24T20:27:14.493076Z"
    }
   },
   "outputs": [],
   "source": []
  },
  {
   "cell_type": "code",
   "execution_count": null,
   "id": "2b5e3005",
   "metadata": {
    "ExecuteTime": {
     "end_time": "2021-05-24T20:27:18.784734Z",
     "start_time": "2021-05-24T20:27:18.733405Z"
    }
   },
   "outputs": [],
   "source": []
  },
  {
   "cell_type": "markdown",
   "id": "4d9c169e",
   "metadata": {},
   "source": [
    "<a id=\"4.1.2\"></a>\n",
    "<h3 style=\"background-color:#084d6e;font-family:newtimeroman;font-size:150%;color:white;text-align:center;border-radius: 15px 50px\">Lista</h3>\n",
    "\n",
    "* Sequência ordenada de elementos;\n",
    "* Os elementos não precisam ser do mesmo tipo, pode-se utilizar até outra sequência;\n",
    "* Os elementos **PODEM** ser alterados;\n",
    "* É definida utilizando-se colcheteses."
   ]
  },
  {
   "cell_type": "code",
   "execution_count": null,
   "id": "005cfca3",
   "metadata": {
    "ExecuteTime": {
     "end_time": "2021-05-24T20:27:21.743521Z",
     "start_time": "2021-05-24T20:27:21.735358Z"
    }
   },
   "outputs": [],
   "source": []
  },
  {
   "cell_type": "markdown",
   "id": "b523af93",
   "metadata": {},
   "source": [
    "<a id=\"4.1.3\"></a>\n",
    "<h3 style=\"background-color:#084d6e;font-family:newtimeroman;font-size:150%;color:white;text-align:center;border-radius: 15px 50px\">String: uma \"tupla\" específica</h3>\n",
    "\n"
   ]
  },
  {
   "cell_type": "code",
   "execution_count": null,
   "id": "9a0454a6",
   "metadata": {
    "ExecuteTime": {
     "end_time": "2021-05-24T20:35:08.305871Z",
     "start_time": "2021-05-24T20:35:08.297486Z"
    }
   },
   "outputs": [],
   "source": []
  },
  {
   "cell_type": "markdown",
   "id": "7d08fb14",
   "metadata": {},
   "source": [
    "<a id=\"4.1\"></a>\n",
    "<h2 style=\"background-color:#084d6e;font-family:newtimeroman;font-size:200%;color:white;text-align:center;border-radius: 15px 50px\">Fatiamento</h2>\n",
    "\n",
    "As sequências pode ser fatiadas, ou seja, pode-se criar um subconjunto da sequência inicial. Este fatiamento é normalmente chamado de *slicing*."
   ]
  },
  {
   "cell_type": "code",
   "execution_count": null,
   "id": "2830776e",
   "metadata": {
    "ExecuteTime": {
     "end_time": "2021-05-24T20:35:09.260331Z",
     "start_time": "2021-05-24T20:35:09.251365Z"
    }
   },
   "outputs": [],
   "source": []
  },
  {
   "cell_type": "markdown",
   "id": "47374d64",
   "metadata": {},
   "source": [
    "<a id=\"4.3\"></a>\n",
    "<h2 style=\"background-color:#084d6e;font-family:newtimeroman;font-size:200%;color:white;text-align:center;border-radius: 15px 50px\">Operações elementares</h2>\n",
    "\n",
    "<a id=\"4.3.1\"></a>\n",
    "<h3 style=\"background-color:#084d6e;font-family:newtimeroman;font-size:150%;color:white;text-align:center;border-radius: 15px 50px\">Concatenação (operador \"+\")</h3>"
   ]
  },
  {
   "cell_type": "code",
   "execution_count": null,
   "id": "4b3428e6",
   "metadata": {
    "ExecuteTime": {
     "end_time": "2021-05-24T20:44:36.799954Z",
     "start_time": "2021-05-24T20:44:36.796883Z"
    }
   },
   "outputs": [],
   "source": []
  },
  {
   "cell_type": "markdown",
   "id": "ae7a84ba",
   "metadata": {},
   "source": [
    "<a id=\"4.3.2\"></a>\n",
    "<h3 style=\"background-color:#084d6e;font-family:newtimeroman;font-size:150%;color:white;text-align:center;border-radius: 15px 50px\">Operador \"in\" em sequências</h3>"
   ]
  },
  {
   "cell_type": "code",
   "execution_count": null,
   "id": "0e52861a",
   "metadata": {
    "ExecuteTime": {
     "end_time": "2021-05-24T20:54:33.567949Z",
     "start_time": "2021-05-24T20:54:33.561889Z"
    }
   },
   "outputs": [],
   "source": []
  },
  {
   "cell_type": "markdown",
   "id": "60997fca",
   "metadata": {},
   "source": [
    "<a id=\"4.3.3\"></a>\n",
    "<h3 style=\"background-color:#084d6e;font-family:newtimeroman;font-size:150%;color:white;text-align:center;border-radius: 15px 50px\">Extras</h3>"
   ]
  },
  {
   "cell_type": "code",
   "execution_count": null,
   "id": "bc3d2aea",
   "metadata": {
    "ExecuteTime": {
     "end_time": "2021-05-24T21:14:00.535767Z",
     "start_time": "2021-05-24T21:14:00.531098Z"
    }
   },
   "outputs": [],
   "source": []
  },
  {
   "cell_type": "markdown",
   "id": "7e691031",
   "metadata": {},
   "source": [
    "<a id=\"4.3.1\"></a>\n",
    "<h3 style=\"background-color:#084d6e;font-family:newtimeroman;font-size:150%;color:white;text-align:center;border-radius: 15px 50px\">String</h3>\n",
    "\n"
   ]
  },
  {
   "cell_type": "code",
   "execution_count": null,
   "id": "1ed95100",
   "metadata": {
    "ExecuteTime": {
     "end_time": "2021-05-24T19:18:40.990528Z",
     "start_time": "2021-05-24T19:18:40.985524Z"
    }
   },
   "outputs": [],
   "source": []
  },
  {
   "cell_type": "markdown",
   "id": "bb72a01d",
   "metadata": {},
   "source": [
    "<a id=\"5\"></a>\n",
    "<h1 style=\"background-color:#084d6e;font-family:newtimeroman;font-size:300%;color:white;text-align:center;border-radius: 15px 50px\">Dicionários</h1>\n",
    "\n",
    "Suponha agora que desejamos organizar as informações através de um mapeamento, entre outras palavras, vamos relacionar um conjunto de chaves com um conjunto de valores.\n",
    "\n",
    "Os dicionários são definidos por chaves."
   ]
  },
  {
   "cell_type": "code",
   "execution_count": null,
   "id": "7b318d5f",
   "metadata": {
    "ExecuteTime": {
     "end_time": "2021-05-24T21:38:43.931931Z",
     "start_time": "2021-05-24T21:38:43.924862Z"
    }
   },
   "outputs": [],
   "source": []
  },
  {
   "cell_type": "markdown",
   "id": "df1cbb86",
   "metadata": {},
   "source": [
    "<a id=\"4\"></a>\n",
    "<h1 style=\"background-color:#084d6e;font-family:newtimeroman;font-size:300%;color:white;text-align:center;border-radius: 15px 50px\">Exercícios</h1>"
   ]
  },
  {
   "cell_type": "markdown",
   "id": "1ffa4149",
   "metadata": {},
   "source": [
    "<a id=\"6.1\"></a>\n",
    "<h2 style=\"background-color:#084d6e;font-family:newtimeroman;font-size:200%;color:white;text-align:center;border-radius: 15px 50px\"></h2> \n",
    "\n",
    "Crie e atribua as variáveis abaixo com os seus dados.\n",
    "```python\n",
    "seu_n =  #seu nome\n",
    "sua_i =  #sua idade\n",
    "seu_p =  #seu peso\n",
    "sua_a =  #sua altura\n",
    "seu_e =  #pratica esporte?\n",
    "```\n",
    "Posteriormente verifique o tipo das variáveis e efetue o cálculo do seu IMC."
   ]
  },
  {
   "cell_type": "markdown",
   "id": "51032fe1",
   "metadata": {},
   "source": [
    "<a id=\"6.2\"></a>\n",
    "<h2 style=\"background-color:#084d6e;font-family:newtimeroman;font-size:200%;color:white;text-align:center;border-radius: 15px 50px\"></h2> \n",
    "\n",
    "Verifique se os operadores \"+\", \"in\" e \"*\" funcionam para tuplas e strings."
   ]
  },
  {
   "cell_type": "markdown",
   "id": "70509cde",
   "metadata": {},
   "source": [
    "<a id=\"6.3\"></a>\n",
    "<h2 style=\"background-color:#084d6e;font-family:newtimeroman;font-size:200%;color:white;text-align:center;border-radius: 15px 50px\"></h2> \n",
    "\n",
    "Pesquise o que os operadores (métodos) ```extend```, ```remove``` e ```reverse``` fazem em listas."
   ]
  }
 ],
 "metadata": {
  "kernelspec": {
   "display_name": "Python 3.8.5 64-bit ('base': conda)",
   "language": "python",
   "name": "python385jvsc74a57bd039e206ad9936e72305e0e8842333c8ef32c1fa0d04fea416f10140e614606cab"
  },
  "language_info": {
   "codemirror_mode": {
    "name": "ipython",
    "version": 3
   },
   "file_extension": ".py",
   "mimetype": "text/x-python",
   "name": "python",
   "nbconvert_exporter": "python",
   "pygments_lexer": "ipython3",
   "version": "3.8.5"
  },
  "nbTranslate": {
   "displayLangs": [
    "*"
   ],
   "hotkey": "alt-t",
   "langInMainMenu": true,
   "sourceLang": "en",
   "targetLang": "br",
   "useGoogleTranslate": true
  },
  "toc": {
   "base_numbering": 1,
   "nav_menu": {},
   "number_sections": true,
   "sideBar": true,
   "skip_h1_title": false,
   "title_cell": "Table of Contents",
   "title_sidebar": "Contents",
   "toc_cell": false,
   "toc_position": {
    "height": "calc(100% - 180px)",
    "left": "10px",
    "top": "150px",
    "width": "292.267px"
   },
   "toc_section_display": true,
   "toc_window_display": false
  }
 },
 "nbformat": 4,
 "nbformat_minor": 5
}
